{
 "cells": [
  {
   "cell_type": "markdown",
   "id": "463ddcb0-b44a-4a2a-8245-ff3b00afcf68",
   "metadata": {
    "jp-MarkdownHeadingCollapsed": true
   },
   "source": [
    "# Project Name - Multiclass Fish Image Classification"
   ]
  },
  {
   "cell_type": "markdown",
   "id": "a030990f-f6f5-4cc4-895f-19dcf9387f9b",
   "metadata": {},
   "source": [
    "### Project type - Deep learning --> Image classification\n",
    "### Name - Nilesh Bahirgaonkar "
   ]
  },
  {
   "cell_type": "markdown",
   "id": "b49b1cb8-bb9a-4228-b992-6a42e2ff1b6e",
   "metadata": {
    "jp-MarkdownHeadingCollapsed": true
   },
   "source": [
    "# Project Summary"
   ]
  },
  {
   "cell_type": "markdown",
   "id": "e3c118fd-32bb-4a92-8b83-8433f75321e1",
   "metadata": {},
   "source": [
    "- This project focuses on classifying fish images into multiple categories using deep learning models.\n",
    "- The dataset is preprocessed with normalization, resizing them tp 224 x 224. Specific models like InceptionV3 required pixel size of 299 x 299.\n",
    "- Data Augmentation to improve generalization and performance.\n",
    "- A custom CNN is built, trained, evaluated and achieved and accuracy of 86%.\n",
    "- Followed with a transfer learning using a 5 pretrained models (MobileNetV2, DenseNet121, VGG16, ResNet50, InceptionV3), achieved better performance.\n",
    "- Evaluation metrics like accuracy,precision,recall,F1 score has been calculated using classification report.\n",
    "- The models(.h5) and training history(.pkl) was saved for future improvement."
   ]
  },
  {
   "cell_type": "markdown",
   "id": "0412744e-8154-4817-8969-64d98a8833dc",
   "metadata": {},
   "source": [
    "# Github Link "
   ]
  },
  {
   "cell_type": "markdown",
   "id": "4e88ecd0-a665-4199-ad65-9e8eaa649b00",
   "metadata": {},
   "source": [
    "https://github.com/03nilb-spec/fish-classification-streamlit"
   ]
  },
  {
   "cell_type": "markdown",
   "id": "3a1d0ba0-5aad-4521-b562-66fa04684ad9",
   "metadata": {
    "jp-MarkdownHeadingCollapsed": true
   },
   "source": [
    "# Problem Statement"
   ]
  },
  {
   "cell_type": "markdown",
   "id": "882cfc89-815a-4502-b0ec-3d15e511f344",
   "metadata": {},
   "source": [
    "This project aims to classify fish images into multiple categories using deep learning techniques. The approach involves training convolutional neural networks (CNNs) from scratch and leveraging transfer learning with pre-trained architectures to improve accuracy and reduce training time. The workflow includes saving trained models for reuse and deploying a Streamlit-based web application that predicts fish species from user-uploaded images."
   ]
  },
  {
   "cell_type": "markdown",
   "id": "2fc27434-9cbd-405b-a844-40e7c7631cc0",
   "metadata": {},
   "source": [
    "# Loading Data, Data Preprocessing, Data Augmentation  "
   ]
  },
  {
   "cell_type": "markdown",
   "id": "57532669-712d-4d0f-87ed-44c7cd5647c8",
   "metadata": {},
   "source": [
    "### Checking that the data is added "
   ]
  },
  {
   "cell_type": "code",
   "execution_count": 1,
   "id": "0c430be4-fa8f-478c-bdd8-33c0516eb696",
   "metadata": {},
   "outputs": [],
   "source": [
    "import os"
   ]
  },
  {
   "cell_type": "code",
   "execution_count": 2,
   "id": "2cbe342d-66fa-4999-a721-a431e6ffc166",
   "metadata": {},
   "outputs": [
    {
     "name": "stdout",
     "output_type": "stream",
     "text": [
      "['.ipynb_checkpoints', 'fish_cnn_v1.h5', 'fish_dense.h5', 'Fish_image_classification.ipynb', 'fish_inception.h5', 'fish_Mobile_net_V2.h5', 'fish_res.h5', 'fish_restnet.h5', 'fish_vgg.h5', 'test', 'train', 'val']\n"
     ]
    }
   ],
   "source": [
    "print(os.listdir('./'))"
   ]
  },
  {
   "cell_type": "markdown",
   "id": "a29f7e79-2c14-44f2-9dd9-8792e7ced606",
   "metadata": {},
   "source": [
    "### Load the data "
   ]
  },
  {
   "cell_type": "code",
   "execution_count": 3,
   "id": "34167d5e-a6c1-467b-aae3-0ea40442d0d0",
   "metadata": {},
   "outputs": [],
   "source": [
    "# Here i am using Image Generator, for loading the data, for resizing and for data augmentation  "
   ]
  },
  {
   "cell_type": "markdown",
   "id": "083d75ab-aa55-46bb-964f-c84b49fd0a4f",
   "metadata": {
    "jp-MarkdownHeadingCollapsed": true
   },
   "source": [
    "### Import Libraries "
   ]
  },
  {
   "cell_type": "code",
   "execution_count": 4,
   "id": "80cfaa77-b973-4f9c-8f7e-98aa8a3f05a5",
   "metadata": {},
   "outputs": [],
   "source": [
    "import tensorflow as tf \n",
    "from tensorflow.keras.preprocessing.image import ImageDataGenerator\n",
    "from tensorflow.keras.models import Model, Sequential\n",
    "from tensorflow.keras.layers import Dense, Dropout, MaxPooling2D, Flatten, Conv2D, BatchNormalization\n",
    "from tensorflow.keras.optimizers import Adam"
   ]
  },
  {
   "cell_type": "code",
   "execution_count": 5,
   "id": "aae58124-d682-4132-a6d3-7f7fd32b61a5",
   "metadata": {},
   "outputs": [],
   "source": [
    "# Set directory\n",
    "base_dir = './'"
   ]
  },
  {
   "cell_type": "code",
   "execution_count": 6,
   "id": "4a15aa62-b00e-420a-90c7-bc1125df6e7b",
   "metadata": {},
   "outputs": [],
   "source": [
    "# Set pixel size and batch size \n",
    "img_height, img_width = 224,224\n",
    "batch_size = 32"
   ]
  },
  {
   "cell_type": "code",
   "execution_count": 7,
   "id": "19edcf52-038b-4ba7-8614-ca263e96d47d",
   "metadata": {},
   "outputs": [
    {
     "name": "stdout",
     "output_type": "stream",
     "text": [
      "Found 3188 images belonging to 11 classes.\n",
      "Found 1092 images belonging to 11 classes.\n",
      "Found 6225 images belonging to 11 classes.\n"
     ]
    }
   ],
   "source": [
    "# load data, rescale data and data augmentation \n",
    "test_gen = ImageDataGenerator(rescale=1./255)\n",
    "val_gen = ImageDataGenerator(rescale=1./255)\n",
    "train_gen = ImageDataGenerator(rescale=1./255,\n",
    "                              rotation_range=20,\n",
    "                              width_shift_range=0.1,\n",
    "                              height_shift_range=0.1,\n",
    "                              brightness_range=(0.8,1.2),\n",
    "                              zoom_range=0.2,\n",
    "                              horizontal_flip=True)             # data augmentation \n",
    "\n",
    "# Loading data from directory\n",
    "test_generator = test_gen.flow_from_directory(\n",
    "    base_dir + 'test',\n",
    "    target_size=(img_height,img_width),\n",
    "    batch_size=batch_size,\n",
    "    class_mode='categorical',\n",
    "    shuffle=False\n",
    ")\n",
    "\n",
    "val_generator = val_gen.flow_from_directory(\n",
    "    base_dir + 'val',\n",
    "    target_size=(img_height,img_width),\n",
    "    batch_size=batch_size,\n",
    "    class_mode='categorical'\n",
    ")\n",
    "\n",
    "train_generator = train_gen.flow_from_directory(\n",
    "    base_dir + 'train',\n",
    "    target_size=(img_height,img_width),\n",
    "    batch_size=batch_size,\n",
    "    class_mode='categorical',\n",
    "    shuffle = True\n",
    ")"
   ]
  },
  {
   "cell_type": "markdown",
   "id": "cb2a5187-3872-4aea-90d7-82f2ed16b2fe",
   "metadata": {
    "jp-MarkdownHeadingCollapsed": true
   },
   "source": [
    "# Understand the data"
   ]
  },
  {
   "cell_type": "markdown",
   "id": "1bbfb8ce-fabc-452b-81f4-ea3aba45cef8",
   "metadata": {},
   "source": [
    "### Number of categories"
   ]
  },
  {
   "cell_type": "code",
   "execution_count": 8,
   "id": "ca66c3b1-1983-4a02-9c34-8311678391bd",
   "metadata": {},
   "outputs": [
    {
     "name": "stdout",
     "output_type": "stream",
     "text": [
      "Total Categories :  11\n"
     ]
    }
   ],
   "source": [
    "print('Total Categories : ',train_generator.num_classes)"
   ]
  },
  {
   "cell_type": "markdown",
   "id": "130d5f71-1af0-4ae9-a650-998a04bec57d",
   "metadata": {},
   "source": [
    "### Categories Names and their corresponding labels"
   ]
  },
  {
   "cell_type": "code",
   "execution_count": 9,
   "id": "9e4b8a1b-89a8-4c6a-aea2-3d70da95bb48",
   "metadata": {},
   "outputs": [
    {
     "data": {
      "text/plain": [
       "[('animal fish', 0),\n",
       " ('animal fish bass', 1),\n",
       " ('fish sea_food black_sea_sprat', 2),\n",
       " ('fish sea_food gilt_head_bream', 3),\n",
       " ('fish sea_food hourse_mackerel', 4),\n",
       " ('fish sea_food red_mullet', 5),\n",
       " ('fish sea_food red_sea_bream', 6),\n",
       " ('fish sea_food sea_bass', 7),\n",
       " ('fish sea_food shrimp', 8),\n",
       " ('fish sea_food striped_red_mullet', 9),\n",
       " ('fish sea_food trout', 10)]"
      ]
     },
     "execution_count": 9,
     "metadata": {},
     "output_type": "execute_result"
    }
   ],
   "source": [
    "label_list = list(train_generator.class_indices.items())\n",
    "label_list"
   ]
  },
  {
   "cell_type": "markdown",
   "id": "23fa2cfe-9c6f-462b-9f07-430ae93ae95b",
   "metadata": {},
   "source": [
    "### Total Samples "
   ]
  },
  {
   "cell_type": "code",
   "execution_count": 10,
   "id": "2d85b8e2-2a25-4fb7-83cc-6ed812b1fd21",
   "metadata": {},
   "outputs": [
    {
     "name": "stdout",
     "output_type": "stream",
     "text": [
      "Test Samples : 3188\n",
      "Train Samples : 6225\n",
      "Validation Samples : 1092\n"
     ]
    }
   ],
   "source": [
    "print('Test Samples :',test_generator.samples)\n",
    "print('Train Samples :',train_generator.samples)\n",
    "print('Validation Samples :',val_generator.samples)"
   ]
  },
  {
   "cell_type": "code",
   "execution_count": 11,
   "id": "5f0ec7a7-1de1-4765-bd21-f63bdbbe0df3",
   "metadata": {},
   "outputs": [],
   "source": [
    "# So there are total 11 categories\n",
    "# each category is labelled\n",
    "# there are 3188 sample images in test, 6225 images in train, 1092 in validation "
   ]
  },
  {
   "cell_type": "markdown",
   "id": "7e1c0539-d202-4d3a-b09a-7449ad78f3ac",
   "metadata": {},
   "source": [
    "# Model Training "
   ]
  },
  {
   "cell_type": "markdown",
   "id": "dc1a6b03-4ea2-4382-9ba7-fc5e445cd8aa",
   "metadata": {},
   "source": [
    "## Custom ***CNN*** "
   ]
  },
  {
   "cell_type": "code",
   "execution_count": 12,
   "id": "e73017fd-1ec3-48fe-b86f-b5a19641392d",
   "metadata": {},
   "outputs": [
    {
     "name": "stderr",
     "output_type": "stream",
     "text": [
      "C:\\Anaconda3\\envs\\py310\\lib\\site-packages\\keras\\src\\layers\\convolutional\\base_conv.py:113: UserWarning: Do not pass an `input_shape`/`input_dim` argument to a layer. When using Sequential models, prefer using an `Input(shape)` object as the first layer in the model instead.\n",
      "  super().__init__(activity_regularizer=activity_regularizer, **kwargs)\n"
     ]
    }
   ],
   "source": [
    "model = Sequential([\n",
    "    Conv2D(32, (3,3), activation='relu', input_shape=(img_height,img_width,3)),\n",
    "    BatchNormalization(),\n",
    "    MaxPooling2D(pool_size=(2,2)),\n",
    "\n",
    "    Conv2D(64,(3,3),activation='relu'),\n",
    "    BatchNormalization(),\n",
    "    MaxPooling2D(pool_size=(2,2)),\n",
    "\n",
    "    Conv2D(128,(3,3),activation='relu'),\n",
    "    BatchNormalization(),\n",
    "    MaxPooling2D(pool_size=(2,2)),\n",
    "\n",
    "    Conv2D(256,(3,3),activation='relu'),\n",
    "    BatchNormalization(),\n",
    "    MaxPooling2D(pool_size=(2,2)),\n",
    "    Dropout(0.2),\n",
    "\n",
    "    Flatten(),\n",
    "    Dense(128,activation='relu'),\n",
    "    Dropout(0.3),\n",
    "    Dense(train_generator.num_classes,activation='softmax')\n",
    "])"
   ]
  },
  {
   "cell_type": "markdown",
   "id": "00e94f74-a111-49d0-82f0-32a94db036a5",
   "metadata": {},
   "source": [
    "### Compiling the model "
   ]
  },
  {
   "cell_type": "code",
   "execution_count": 13,
   "id": "b70d6ad8-5f95-4260-ae0d-4cb5ed76560f",
   "metadata": {},
   "outputs": [],
   "source": [
    "model.compile(\n",
    "    optimizer='adam',\n",
    "    loss='categorical_crossentropy',\n",
    "    metrics=['accuracy']\n",
    ")"
   ]
  },
  {
   "cell_type": "code",
   "execution_count": 14,
   "id": "549a52a4-79a8-416b-8ac0-7a11cf28b548",
   "metadata": {},
   "outputs": [
    {
     "data": {
      "text/html": [
       "<pre style=\"white-space:pre;overflow-x:auto;line-height:normal;font-family:Menlo,'DejaVu Sans Mono',consolas,'Courier New',monospace\"><span style=\"font-weight: bold\">Model: \"sequential\"</span>\n",
       "</pre>\n"
      ],
      "text/plain": [
       "\u001b[1mModel: \"sequential\"\u001b[0m\n"
      ]
     },
     "metadata": {},
     "output_type": "display_data"
    },
    {
     "data": {
      "text/html": [
       "<pre style=\"white-space:pre;overflow-x:auto;line-height:normal;font-family:Menlo,'DejaVu Sans Mono',consolas,'Courier New',monospace\">┏━━━━━━━━━━━━━━━━━━━━━━━━━━━━━━━━━━━━━━┳━━━━━━━━━━━━━━━━━━━━━━━━━━━━━┳━━━━━━━━━━━━━━━━━┓\n",
       "┃<span style=\"font-weight: bold\"> Layer (type)                         </span>┃<span style=\"font-weight: bold\"> Output Shape                </span>┃<span style=\"font-weight: bold\">         Param # </span>┃\n",
       "┡━━━━━━━━━━━━━━━━━━━━━━━━━━━━━━━━━━━━━━╇━━━━━━━━━━━━━━━━━━━━━━━━━━━━━╇━━━━━━━━━━━━━━━━━┩\n",
       "│ conv2d (<span style=\"color: #0087ff; text-decoration-color: #0087ff\">Conv2D</span>)                      │ (<span style=\"color: #00d7ff; text-decoration-color: #00d7ff\">None</span>, <span style=\"color: #00af00; text-decoration-color: #00af00\">222</span>, <span style=\"color: #00af00; text-decoration-color: #00af00\">222</span>, <span style=\"color: #00af00; text-decoration-color: #00af00\">32</span>)        │             <span style=\"color: #00af00; text-decoration-color: #00af00\">896</span> │\n",
       "├──────────────────────────────────────┼─────────────────────────────┼─────────────────┤\n",
       "│ batch_normalization                  │ (<span style=\"color: #00d7ff; text-decoration-color: #00d7ff\">None</span>, <span style=\"color: #00af00; text-decoration-color: #00af00\">222</span>, <span style=\"color: #00af00; text-decoration-color: #00af00\">222</span>, <span style=\"color: #00af00; text-decoration-color: #00af00\">32</span>)        │             <span style=\"color: #00af00; text-decoration-color: #00af00\">128</span> │\n",
       "│ (<span style=\"color: #0087ff; text-decoration-color: #0087ff\">BatchNormalization</span>)                 │                             │                 │\n",
       "├──────────────────────────────────────┼─────────────────────────────┼─────────────────┤\n",
       "│ max_pooling2d (<span style=\"color: #0087ff; text-decoration-color: #0087ff\">MaxPooling2D</span>)         │ (<span style=\"color: #00d7ff; text-decoration-color: #00d7ff\">None</span>, <span style=\"color: #00af00; text-decoration-color: #00af00\">111</span>, <span style=\"color: #00af00; text-decoration-color: #00af00\">111</span>, <span style=\"color: #00af00; text-decoration-color: #00af00\">32</span>)        │               <span style=\"color: #00af00; text-decoration-color: #00af00\">0</span> │\n",
       "├──────────────────────────────────────┼─────────────────────────────┼─────────────────┤\n",
       "│ conv2d_1 (<span style=\"color: #0087ff; text-decoration-color: #0087ff\">Conv2D</span>)                    │ (<span style=\"color: #00d7ff; text-decoration-color: #00d7ff\">None</span>, <span style=\"color: #00af00; text-decoration-color: #00af00\">109</span>, <span style=\"color: #00af00; text-decoration-color: #00af00\">109</span>, <span style=\"color: #00af00; text-decoration-color: #00af00\">64</span>)        │          <span style=\"color: #00af00; text-decoration-color: #00af00\">18,496</span> │\n",
       "├──────────────────────────────────────┼─────────────────────────────┼─────────────────┤\n",
       "│ batch_normalization_1                │ (<span style=\"color: #00d7ff; text-decoration-color: #00d7ff\">None</span>, <span style=\"color: #00af00; text-decoration-color: #00af00\">109</span>, <span style=\"color: #00af00; text-decoration-color: #00af00\">109</span>, <span style=\"color: #00af00; text-decoration-color: #00af00\">64</span>)        │             <span style=\"color: #00af00; text-decoration-color: #00af00\">256</span> │\n",
       "│ (<span style=\"color: #0087ff; text-decoration-color: #0087ff\">BatchNormalization</span>)                 │                             │                 │\n",
       "├──────────────────────────────────────┼─────────────────────────────┼─────────────────┤\n",
       "│ max_pooling2d_1 (<span style=\"color: #0087ff; text-decoration-color: #0087ff\">MaxPooling2D</span>)       │ (<span style=\"color: #00d7ff; text-decoration-color: #00d7ff\">None</span>, <span style=\"color: #00af00; text-decoration-color: #00af00\">54</span>, <span style=\"color: #00af00; text-decoration-color: #00af00\">54</span>, <span style=\"color: #00af00; text-decoration-color: #00af00\">64</span>)          │               <span style=\"color: #00af00; text-decoration-color: #00af00\">0</span> │\n",
       "├──────────────────────────────────────┼─────────────────────────────┼─────────────────┤\n",
       "│ conv2d_2 (<span style=\"color: #0087ff; text-decoration-color: #0087ff\">Conv2D</span>)                    │ (<span style=\"color: #00d7ff; text-decoration-color: #00d7ff\">None</span>, <span style=\"color: #00af00; text-decoration-color: #00af00\">52</span>, <span style=\"color: #00af00; text-decoration-color: #00af00\">52</span>, <span style=\"color: #00af00; text-decoration-color: #00af00\">128</span>)         │          <span style=\"color: #00af00; text-decoration-color: #00af00\">73,856</span> │\n",
       "├──────────────────────────────────────┼─────────────────────────────┼─────────────────┤\n",
       "│ batch_normalization_2                │ (<span style=\"color: #00d7ff; text-decoration-color: #00d7ff\">None</span>, <span style=\"color: #00af00; text-decoration-color: #00af00\">52</span>, <span style=\"color: #00af00; text-decoration-color: #00af00\">52</span>, <span style=\"color: #00af00; text-decoration-color: #00af00\">128</span>)         │             <span style=\"color: #00af00; text-decoration-color: #00af00\">512</span> │\n",
       "│ (<span style=\"color: #0087ff; text-decoration-color: #0087ff\">BatchNormalization</span>)                 │                             │                 │\n",
       "├──────────────────────────────────────┼─────────────────────────────┼─────────────────┤\n",
       "│ max_pooling2d_2 (<span style=\"color: #0087ff; text-decoration-color: #0087ff\">MaxPooling2D</span>)       │ (<span style=\"color: #00d7ff; text-decoration-color: #00d7ff\">None</span>, <span style=\"color: #00af00; text-decoration-color: #00af00\">26</span>, <span style=\"color: #00af00; text-decoration-color: #00af00\">26</span>, <span style=\"color: #00af00; text-decoration-color: #00af00\">128</span>)         │               <span style=\"color: #00af00; text-decoration-color: #00af00\">0</span> │\n",
       "├──────────────────────────────────────┼─────────────────────────────┼─────────────────┤\n",
       "│ conv2d_3 (<span style=\"color: #0087ff; text-decoration-color: #0087ff\">Conv2D</span>)                    │ (<span style=\"color: #00d7ff; text-decoration-color: #00d7ff\">None</span>, <span style=\"color: #00af00; text-decoration-color: #00af00\">24</span>, <span style=\"color: #00af00; text-decoration-color: #00af00\">24</span>, <span style=\"color: #00af00; text-decoration-color: #00af00\">256</span>)         │         <span style=\"color: #00af00; text-decoration-color: #00af00\">295,168</span> │\n",
       "├──────────────────────────────────────┼─────────────────────────────┼─────────────────┤\n",
       "│ batch_normalization_3                │ (<span style=\"color: #00d7ff; text-decoration-color: #00d7ff\">None</span>, <span style=\"color: #00af00; text-decoration-color: #00af00\">24</span>, <span style=\"color: #00af00; text-decoration-color: #00af00\">24</span>, <span style=\"color: #00af00; text-decoration-color: #00af00\">256</span>)         │           <span style=\"color: #00af00; text-decoration-color: #00af00\">1,024</span> │\n",
       "│ (<span style=\"color: #0087ff; text-decoration-color: #0087ff\">BatchNormalization</span>)                 │                             │                 │\n",
       "├──────────────────────────────────────┼─────────────────────────────┼─────────────────┤\n",
       "│ max_pooling2d_3 (<span style=\"color: #0087ff; text-decoration-color: #0087ff\">MaxPooling2D</span>)       │ (<span style=\"color: #00d7ff; text-decoration-color: #00d7ff\">None</span>, <span style=\"color: #00af00; text-decoration-color: #00af00\">12</span>, <span style=\"color: #00af00; text-decoration-color: #00af00\">12</span>, <span style=\"color: #00af00; text-decoration-color: #00af00\">256</span>)         │               <span style=\"color: #00af00; text-decoration-color: #00af00\">0</span> │\n",
       "├──────────────────────────────────────┼─────────────────────────────┼─────────────────┤\n",
       "│ dropout (<span style=\"color: #0087ff; text-decoration-color: #0087ff\">Dropout</span>)                    │ (<span style=\"color: #00d7ff; text-decoration-color: #00d7ff\">None</span>, <span style=\"color: #00af00; text-decoration-color: #00af00\">12</span>, <span style=\"color: #00af00; text-decoration-color: #00af00\">12</span>, <span style=\"color: #00af00; text-decoration-color: #00af00\">256</span>)         │               <span style=\"color: #00af00; text-decoration-color: #00af00\">0</span> │\n",
       "├──────────────────────────────────────┼─────────────────────────────┼─────────────────┤\n",
       "│ flatten (<span style=\"color: #0087ff; text-decoration-color: #0087ff\">Flatten</span>)                    │ (<span style=\"color: #00d7ff; text-decoration-color: #00d7ff\">None</span>, <span style=\"color: #00af00; text-decoration-color: #00af00\">36864</span>)               │               <span style=\"color: #00af00; text-decoration-color: #00af00\">0</span> │\n",
       "├──────────────────────────────────────┼─────────────────────────────┼─────────────────┤\n",
       "│ dense (<span style=\"color: #0087ff; text-decoration-color: #0087ff\">Dense</span>)                        │ (<span style=\"color: #00d7ff; text-decoration-color: #00d7ff\">None</span>, <span style=\"color: #00af00; text-decoration-color: #00af00\">128</span>)                 │       <span style=\"color: #00af00; text-decoration-color: #00af00\">4,718,720</span> │\n",
       "├──────────────────────────────────────┼─────────────────────────────┼─────────────────┤\n",
       "│ dropout_1 (<span style=\"color: #0087ff; text-decoration-color: #0087ff\">Dropout</span>)                  │ (<span style=\"color: #00d7ff; text-decoration-color: #00d7ff\">None</span>, <span style=\"color: #00af00; text-decoration-color: #00af00\">128</span>)                 │               <span style=\"color: #00af00; text-decoration-color: #00af00\">0</span> │\n",
       "├──────────────────────────────────────┼─────────────────────────────┼─────────────────┤\n",
       "│ dense_1 (<span style=\"color: #0087ff; text-decoration-color: #0087ff\">Dense</span>)                      │ (<span style=\"color: #00d7ff; text-decoration-color: #00d7ff\">None</span>, <span style=\"color: #00af00; text-decoration-color: #00af00\">11</span>)                  │           <span style=\"color: #00af00; text-decoration-color: #00af00\">1,419</span> │\n",
       "└──────────────────────────────────────┴─────────────────────────────┴─────────────────┘\n",
       "</pre>\n"
      ],
      "text/plain": [
       "┏━━━━━━━━━━━━━━━━━━━━━━━━━━━━━━━━━━━━━━┳━━━━━━━━━━━━━━━━━━━━━━━━━━━━━┳━━━━━━━━━━━━━━━━━┓\n",
       "┃\u001b[1m \u001b[0m\u001b[1mLayer (type)                        \u001b[0m\u001b[1m \u001b[0m┃\u001b[1m \u001b[0m\u001b[1mOutput Shape               \u001b[0m\u001b[1m \u001b[0m┃\u001b[1m \u001b[0m\u001b[1m        Param #\u001b[0m\u001b[1m \u001b[0m┃\n",
       "┡━━━━━━━━━━━━━━━━━━━━━━━━━━━━━━━━━━━━━━╇━━━━━━━━━━━━━━━━━━━━━━━━━━━━━╇━━━━━━━━━━━━━━━━━┩\n",
       "│ conv2d (\u001b[38;5;33mConv2D\u001b[0m)                      │ (\u001b[38;5;45mNone\u001b[0m, \u001b[38;5;34m222\u001b[0m, \u001b[38;5;34m222\u001b[0m, \u001b[38;5;34m32\u001b[0m)        │             \u001b[38;5;34m896\u001b[0m │\n",
       "├──────────────────────────────────────┼─────────────────────────────┼─────────────────┤\n",
       "│ batch_normalization                  │ (\u001b[38;5;45mNone\u001b[0m, \u001b[38;5;34m222\u001b[0m, \u001b[38;5;34m222\u001b[0m, \u001b[38;5;34m32\u001b[0m)        │             \u001b[38;5;34m128\u001b[0m │\n",
       "│ (\u001b[38;5;33mBatchNormalization\u001b[0m)                 │                             │                 │\n",
       "├──────────────────────────────────────┼─────────────────────────────┼─────────────────┤\n",
       "│ max_pooling2d (\u001b[38;5;33mMaxPooling2D\u001b[0m)         │ (\u001b[38;5;45mNone\u001b[0m, \u001b[38;5;34m111\u001b[0m, \u001b[38;5;34m111\u001b[0m, \u001b[38;5;34m32\u001b[0m)        │               \u001b[38;5;34m0\u001b[0m │\n",
       "├──────────────────────────────────────┼─────────────────────────────┼─────────────────┤\n",
       "│ conv2d_1 (\u001b[38;5;33mConv2D\u001b[0m)                    │ (\u001b[38;5;45mNone\u001b[0m, \u001b[38;5;34m109\u001b[0m, \u001b[38;5;34m109\u001b[0m, \u001b[38;5;34m64\u001b[0m)        │          \u001b[38;5;34m18,496\u001b[0m │\n",
       "├──────────────────────────────────────┼─────────────────────────────┼─────────────────┤\n",
       "│ batch_normalization_1                │ (\u001b[38;5;45mNone\u001b[0m, \u001b[38;5;34m109\u001b[0m, \u001b[38;5;34m109\u001b[0m, \u001b[38;5;34m64\u001b[0m)        │             \u001b[38;5;34m256\u001b[0m │\n",
       "│ (\u001b[38;5;33mBatchNormalization\u001b[0m)                 │                             │                 │\n",
       "├──────────────────────────────────────┼─────────────────────────────┼─────────────────┤\n",
       "│ max_pooling2d_1 (\u001b[38;5;33mMaxPooling2D\u001b[0m)       │ (\u001b[38;5;45mNone\u001b[0m, \u001b[38;5;34m54\u001b[0m, \u001b[38;5;34m54\u001b[0m, \u001b[38;5;34m64\u001b[0m)          │               \u001b[38;5;34m0\u001b[0m │\n",
       "├──────────────────────────────────────┼─────────────────────────────┼─────────────────┤\n",
       "│ conv2d_2 (\u001b[38;5;33mConv2D\u001b[0m)                    │ (\u001b[38;5;45mNone\u001b[0m, \u001b[38;5;34m52\u001b[0m, \u001b[38;5;34m52\u001b[0m, \u001b[38;5;34m128\u001b[0m)         │          \u001b[38;5;34m73,856\u001b[0m │\n",
       "├──────────────────────────────────────┼─────────────────────────────┼─────────────────┤\n",
       "│ batch_normalization_2                │ (\u001b[38;5;45mNone\u001b[0m, \u001b[38;5;34m52\u001b[0m, \u001b[38;5;34m52\u001b[0m, \u001b[38;5;34m128\u001b[0m)         │             \u001b[38;5;34m512\u001b[0m │\n",
       "│ (\u001b[38;5;33mBatchNormalization\u001b[0m)                 │                             │                 │\n",
       "├──────────────────────────────────────┼─────────────────────────────┼─────────────────┤\n",
       "│ max_pooling2d_2 (\u001b[38;5;33mMaxPooling2D\u001b[0m)       │ (\u001b[38;5;45mNone\u001b[0m, \u001b[38;5;34m26\u001b[0m, \u001b[38;5;34m26\u001b[0m, \u001b[38;5;34m128\u001b[0m)         │               \u001b[38;5;34m0\u001b[0m │\n",
       "├──────────────────────────────────────┼─────────────────────────────┼─────────────────┤\n",
       "│ conv2d_3 (\u001b[38;5;33mConv2D\u001b[0m)                    │ (\u001b[38;5;45mNone\u001b[0m, \u001b[38;5;34m24\u001b[0m, \u001b[38;5;34m24\u001b[0m, \u001b[38;5;34m256\u001b[0m)         │         \u001b[38;5;34m295,168\u001b[0m │\n",
       "├──────────────────────────────────────┼─────────────────────────────┼─────────────────┤\n",
       "│ batch_normalization_3                │ (\u001b[38;5;45mNone\u001b[0m, \u001b[38;5;34m24\u001b[0m, \u001b[38;5;34m24\u001b[0m, \u001b[38;5;34m256\u001b[0m)         │           \u001b[38;5;34m1,024\u001b[0m │\n",
       "│ (\u001b[38;5;33mBatchNormalization\u001b[0m)                 │                             │                 │\n",
       "├──────────────────────────────────────┼─────────────────────────────┼─────────────────┤\n",
       "│ max_pooling2d_3 (\u001b[38;5;33mMaxPooling2D\u001b[0m)       │ (\u001b[38;5;45mNone\u001b[0m, \u001b[38;5;34m12\u001b[0m, \u001b[38;5;34m12\u001b[0m, \u001b[38;5;34m256\u001b[0m)         │               \u001b[38;5;34m0\u001b[0m │\n",
       "├──────────────────────────────────────┼─────────────────────────────┼─────────────────┤\n",
       "│ dropout (\u001b[38;5;33mDropout\u001b[0m)                    │ (\u001b[38;5;45mNone\u001b[0m, \u001b[38;5;34m12\u001b[0m, \u001b[38;5;34m12\u001b[0m, \u001b[38;5;34m256\u001b[0m)         │               \u001b[38;5;34m0\u001b[0m │\n",
       "├──────────────────────────────────────┼─────────────────────────────┼─────────────────┤\n",
       "│ flatten (\u001b[38;5;33mFlatten\u001b[0m)                    │ (\u001b[38;5;45mNone\u001b[0m, \u001b[38;5;34m36864\u001b[0m)               │               \u001b[38;5;34m0\u001b[0m │\n",
       "├──────────────────────────────────────┼─────────────────────────────┼─────────────────┤\n",
       "│ dense (\u001b[38;5;33mDense\u001b[0m)                        │ (\u001b[38;5;45mNone\u001b[0m, \u001b[38;5;34m128\u001b[0m)                 │       \u001b[38;5;34m4,718,720\u001b[0m │\n",
       "├──────────────────────────────────────┼─────────────────────────────┼─────────────────┤\n",
       "│ dropout_1 (\u001b[38;5;33mDropout\u001b[0m)                  │ (\u001b[38;5;45mNone\u001b[0m, \u001b[38;5;34m128\u001b[0m)                 │               \u001b[38;5;34m0\u001b[0m │\n",
       "├──────────────────────────────────────┼─────────────────────────────┼─────────────────┤\n",
       "│ dense_1 (\u001b[38;5;33mDense\u001b[0m)                      │ (\u001b[38;5;45mNone\u001b[0m, \u001b[38;5;34m11\u001b[0m)                  │           \u001b[38;5;34m1,419\u001b[0m │\n",
       "└──────────────────────────────────────┴─────────────────────────────┴─────────────────┘\n"
      ]
     },
     "metadata": {},
     "output_type": "display_data"
    },
    {
     "data": {
      "text/html": [
       "<pre style=\"white-space:pre;overflow-x:auto;line-height:normal;font-family:Menlo,'DejaVu Sans Mono',consolas,'Courier New',monospace\"><span style=\"font-weight: bold\"> Total params: </span><span style=\"color: #00af00; text-decoration-color: #00af00\">5,110,475</span> (19.49 MB)\n",
       "</pre>\n"
      ],
      "text/plain": [
       "\u001b[1m Total params: \u001b[0m\u001b[38;5;34m5,110,475\u001b[0m (19.49 MB)\n"
      ]
     },
     "metadata": {},
     "output_type": "display_data"
    },
    {
     "data": {
      "text/html": [
       "<pre style=\"white-space:pre;overflow-x:auto;line-height:normal;font-family:Menlo,'DejaVu Sans Mono',consolas,'Courier New',monospace\"><span style=\"font-weight: bold\"> Trainable params: </span><span style=\"color: #00af00; text-decoration-color: #00af00\">5,109,515</span> (19.49 MB)\n",
       "</pre>\n"
      ],
      "text/plain": [
       "\u001b[1m Trainable params: \u001b[0m\u001b[38;5;34m5,109,515\u001b[0m (19.49 MB)\n"
      ]
     },
     "metadata": {},
     "output_type": "display_data"
    },
    {
     "data": {
      "text/html": [
       "<pre style=\"white-space:pre;overflow-x:auto;line-height:normal;font-family:Menlo,'DejaVu Sans Mono',consolas,'Courier New',monospace\"><span style=\"font-weight: bold\"> Non-trainable params: </span><span style=\"color: #00af00; text-decoration-color: #00af00\">960</span> (3.75 KB)\n",
       "</pre>\n"
      ],
      "text/plain": [
       "\u001b[1m Non-trainable params: \u001b[0m\u001b[38;5;34m960\u001b[0m (3.75 KB)\n"
      ]
     },
     "metadata": {},
     "output_type": "display_data"
    }
   ],
   "source": [
    "model.summary()"
   ]
  },
  {
   "cell_type": "markdown",
   "id": "23b1ae5d-c69f-493d-9dcb-5ad5dca6f284",
   "metadata": {},
   "source": [
    "### Training the model "
   ]
  },
  {
   "cell_type": "code",
   "execution_count": 15,
   "id": "29881e69-759d-4051-bb21-003e07945f1f",
   "metadata": {},
   "outputs": [
    {
     "name": "stderr",
     "output_type": "stream",
     "text": [
      "C:\\Anaconda3\\envs\\py310\\lib\\site-packages\\keras\\src\\trainers\\data_adapters\\py_dataset_adapter.py:121: UserWarning: Your `PyDataset` class should call `super().__init__(**kwargs)` in its constructor. `**kwargs` can include `workers`, `use_multiprocessing`, `max_queue_size`. Do not pass these arguments to `fit()`, as they will be ignored.\n",
      "  self._warn_if_super_not_called()\n"
     ]
    },
    {
     "name": "stdout",
     "output_type": "stream",
     "text": [
      "Epoch 1/10\n",
      "\u001b[1m195/195\u001b[0m \u001b[32m━━━━━━━━━━━━━━━━━━━━\u001b[0m\u001b[37m\u001b[0m \u001b[1m348s\u001b[0m 2s/step - accuracy: 0.2666 - loss: 3.0320 - val_accuracy: 0.1712 - val_loss: 11.7643\n",
      "Epoch 2/10\n",
      "\u001b[1m195/195\u001b[0m \u001b[32m━━━━━━━━━━━━━━━━━━━━\u001b[0m\u001b[37m\u001b[0m \u001b[1m329s\u001b[0m 2s/step - accuracy: 0.3402 - loss: 1.9472 - val_accuracy: 0.3892 - val_loss: 1.7229\n",
      "Epoch 3/10\n",
      "\u001b[1m195/195\u001b[0m \u001b[32m━━━━━━━━━━━━━━━━━━━━\u001b[0m\u001b[37m\u001b[0m \u001b[1m328s\u001b[0m 2s/step - accuracy: 0.4081 - loss: 1.6040 - val_accuracy: 0.4799 - val_loss: 1.3163\n",
      "Epoch 4/10\n",
      "\u001b[1m195/195\u001b[0m \u001b[32m━━━━━━━━━━━━━━━━━━━━\u001b[0m\u001b[37m\u001b[0m \u001b[1m326s\u001b[0m 2s/step - accuracy: 0.4722 - loss: 1.3954 - val_accuracy: 0.3205 - val_loss: 2.6705\n",
      "Epoch 5/10\n",
      "\u001b[1m195/195\u001b[0m \u001b[32m━━━━━━━━━━━━━━━━━━━━\u001b[0m\u001b[37m\u001b[0m \u001b[1m327s\u001b[0m 2s/step - accuracy: 0.5204 - loss: 1.2290 - val_accuracy: 0.6026 - val_loss: 1.0320\n",
      "Epoch 6/10\n",
      "\u001b[1m195/195\u001b[0m \u001b[32m━━━━━━━━━━━━━━━━━━━━\u001b[0m\u001b[37m\u001b[0m \u001b[1m327s\u001b[0m 2s/step - accuracy: 0.5660 - loss: 1.1274 - val_accuracy: 0.5623 - val_loss: 1.2152\n",
      "Epoch 7/10\n",
      "\u001b[1m195/195\u001b[0m \u001b[32m━━━━━━━━━━━━━━━━━━━━\u001b[0m\u001b[37m\u001b[0m \u001b[1m326s\u001b[0m 2s/step - accuracy: 0.6213 - loss: 1.0393 - val_accuracy: 0.7262 - val_loss: 0.9858\n",
      "Epoch 8/10\n",
      "\u001b[1m195/195\u001b[0m \u001b[32m━━━━━━━━━━━━━━━━━━━━\u001b[0m\u001b[37m\u001b[0m \u001b[1m329s\u001b[0m 2s/step - accuracy: 0.6504 - loss: 0.9777 - val_accuracy: 0.3581 - val_loss: 4.1476\n",
      "Epoch 9/10\n",
      "\u001b[1m195/195\u001b[0m \u001b[32m━━━━━━━━━━━━━━━━━━━━\u001b[0m\u001b[37m\u001b[0m \u001b[1m328s\u001b[0m 2s/step - accuracy: 0.6703 - loss: 0.8997 - val_accuracy: 0.6200 - val_loss: 1.2701\n",
      "Epoch 10/10\n",
      "\u001b[1m195/195\u001b[0m \u001b[32m━━━━━━━━━━━━━━━━━━━━\u001b[0m\u001b[37m\u001b[0m \u001b[1m332s\u001b[0m 2s/step - accuracy: 0.7109 - loss: 0.7869 - val_accuracy: 0.8608 - val_loss: 0.4853\n"
     ]
    }
   ],
   "source": [
    "history = model.fit(\n",
    "    train_generator,\n",
    "    validation_data=val_generator,\n",
    "    epochs=10\n",
    ")"
   ]
  },
  {
   "cell_type": "code",
   "execution_count": 16,
   "id": "1328844f-1a1b-40dd-87a6-a7ce129f7fce",
   "metadata": {},
   "outputs": [],
   "source": [
    "from sklearn.metrics import classification_report"
   ]
  },
  {
   "cell_type": "code",
   "execution_count": 17,
   "id": "f7dff046-498f-4ba3-88c6-aa87fe219bfc",
   "metadata": {
    "scrolled": true
   },
   "outputs": [
    {
     "name": "stdout",
     "output_type": "stream",
     "text": [
      "\u001b[1m100/100\u001b[0m \u001b[32m━━━━━━━━━━━━━━━━━━━━\u001b[0m\u001b[37m\u001b[0m \u001b[1m29s\u001b[0m 282ms/step\n",
      "                                  precision    recall  f1-score   support\n",
      "\n",
      "                     animal fish       0.97      0.99      0.98       521\n",
      "                animal fish bass       0.00      0.00      0.00        13\n",
      "   fish sea_food black_sea_sprat       0.85      0.94      0.90       298\n",
      "   fish sea_food gilt_head_bream       0.69      0.60      0.64       305\n",
      "   fish sea_food hourse_mackerel       0.85      0.97      0.90       286\n",
      "        fish sea_food red_mullet       0.92      1.00      0.96       291\n",
      "     fish sea_food red_sea_bream       0.98      0.54      0.70       273\n",
      "          fish sea_food sea_bass       0.70      0.86      0.78       327\n",
      "            fish sea_food shrimp       0.87      0.97      0.92       289\n",
      "fish sea_food striped_red_mullet       0.84      0.72      0.77       293\n",
      "             fish sea_food trout       0.91      0.93      0.92       292\n",
      "\n",
      "                        accuracy                           0.86      3188\n",
      "                       macro avg       0.78      0.77      0.77      3188\n",
      "                    weighted avg       0.86      0.86      0.85      3188\n",
      "\n"
     ]
    },
    {
     "name": "stderr",
     "output_type": "stream",
     "text": [
      "C:\\Anaconda3\\envs\\py310\\lib\\site-packages\\sklearn\\metrics\\_classification.py:1565: UndefinedMetricWarning: Precision is ill-defined and being set to 0.0 in labels with no predicted samples. Use `zero_division` parameter to control this behavior.\n",
      "  _warn_prf(average, modifier, f\"{metric.capitalize()} is\", len(result))\n",
      "C:\\Anaconda3\\envs\\py310\\lib\\site-packages\\sklearn\\metrics\\_classification.py:1565: UndefinedMetricWarning: Precision is ill-defined and being set to 0.0 in labels with no predicted samples. Use `zero_division` parameter to control this behavior.\n",
      "  _warn_prf(average, modifier, f\"{metric.capitalize()} is\", len(result))\n",
      "C:\\Anaconda3\\envs\\py310\\lib\\site-packages\\sklearn\\metrics\\_classification.py:1565: UndefinedMetricWarning: Precision is ill-defined and being set to 0.0 in labels with no predicted samples. Use `zero_division` parameter to control this behavior.\n",
      "  _warn_prf(average, modifier, f\"{metric.capitalize()} is\", len(result))\n"
     ]
    }
   ],
   "source": [
    "\n",
    "\n",
    "# Predict\n",
    "Y_pred = model.predict(test_generator)\n",
    "y_pred = Y_pred.argmax(axis=1)\n",
    "\n",
    "# True labels\n",
    "y_true = test_generator.classes\n",
    "\n",
    "# Class labels (names)\n",
    "label_list = list(test_generator.class_indices.keys())\n",
    "\n",
    "# Classification report\n",
    "print(classification_report(y_true, y_pred, target_names=label_list))\n"
   ]
  },
  {
   "cell_type": "code",
   "execution_count": 18,
   "id": "0dc2e8c4-5a86-4884-8348-6a6d87fdcd9e",
   "metadata": {},
   "outputs": [
    {
     "name": "stderr",
     "output_type": "stream",
     "text": [
      "WARNING:absl:You are saving your model as an HDF5 file via `model.save()` or `keras.saving.save_model(model)`. This file format is considered legacy. We recommend using instead the native Keras format, e.g. `model.save('my_model.keras')` or `keras.saving.save_model(model, 'my_model.keras')`. \n"
     ]
    }
   ],
   "source": [
    "model.save(\"fish_cnn_v2.h5\")"
   ]
  },
  {
   "cell_type": "code",
   "execution_count": 19,
   "id": "c0d3d884-353c-4057-ae79-a1a75df1c854",
   "metadata": {},
   "outputs": [],
   "source": [
    "import pickle\n",
    "\n",
    "# Save history object\n",
    "with open('history_model_cnn.pkl', 'wb') as f:\n",
    "    pickle.dump(history.history, f)"
   ]
  },
  {
   "cell_type": "markdown",
   "id": "595efd03-85f8-40b1-ba06-6b8d31ed5085",
   "metadata": {},
   "source": [
    "# Transfer Learning "
   ]
  },
  {
   "cell_type": "markdown",
   "id": "f8d6bb08-ee7a-46da-b0b9-f51193f4b705",
   "metadata": {},
   "source": [
    "## ***MobileNetV2***"
   ]
  },
  {
   "cell_type": "markdown",
   "id": "eb9d3fe9-5555-46a3-b8dd-e37ff93a93e6",
   "metadata": {},
   "source": [
    "### Importing libraries and models"
   ]
  },
  {
   "cell_type": "code",
   "execution_count": 20,
   "id": "19aefeac-e5ee-48b9-b94a-2474102c2be9",
   "metadata": {},
   "outputs": [],
   "source": [
    "\n",
    "from tensorflow.keras.applications import MobileNetV2\n",
    "from tensorflow.keras.layers import GlobalAveragePooling2D"
   ]
  },
  {
   "cell_type": "code",
   "execution_count": 21,
   "id": "d68249f5-430b-4c4c-8731-4c961a40a0a0",
   "metadata": {},
   "outputs": [],
   "source": [
    "# loading the base model\n",
    "base_model = MobileNetV2(\n",
    "    input_shape=(img_height,img_width,3),\n",
    "    include_top=False,\n",
    "    weights='imagenet'\n",
    ")"
   ]
  },
  {
   "cell_type": "markdown",
   "id": "63286e90-b082-4e94-b7d0-331cf6e87554",
   "metadata": {},
   "source": [
    "### Freezing the pre-trained model"
   ]
  },
  {
   "cell_type": "code",
   "execution_count": 22,
   "id": "60870d18-ac96-4116-89ea-a51c312e30af",
   "metadata": {},
   "outputs": [],
   "source": [
    "base_model.trainable = False"
   ]
  },
  {
   "cell_type": "code",
   "execution_count": 23,
   "id": "54848a0d-4d41-49c0-a0ed-fe849fdc91cd",
   "metadata": {},
   "outputs": [],
   "source": [
    "# Since MobileNetV2 doesn’t know about Fish classification images, we need to add our own dense layers to predict the 11 categories."
   ]
  },
  {
   "cell_type": "code",
   "execution_count": 24,
   "id": "b386ffda-fb2f-4cc1-97fb-780af25685c9",
   "metadata": {},
   "outputs": [],
   "source": [
    "model_Mobile = Sequential([\n",
    "    base_model,\n",
    "    GlobalAveragePooling2D(),\n",
    "    Dense(128,activation='relu'),\n",
    "    Dropout(0.3),\n",
    "    Dense(train_generator.num_classes,activation='softmax')\n",
    "])"
   ]
  },
  {
   "cell_type": "markdown",
   "id": "63e6850d-0e80-4533-bc17-494f59aee314",
   "metadata": {},
   "source": [
    "### Compiling the model"
   ]
  },
  {
   "cell_type": "code",
   "execution_count": 25,
   "id": "4f048015-c92c-433b-aedd-e9a2e0ad63c7",
   "metadata": {},
   "outputs": [],
   "source": [
    "model_Mobile.compile(\n",
    "    optimizer='adam',\n",
    "    loss = 'categorical_crossentropy',\n",
    "    metrics=['accuracy']\n",
    ")"
   ]
  },
  {
   "cell_type": "markdown",
   "id": "d4cabce4-6d2e-4b9f-84c0-39d48edff46b",
   "metadata": {},
   "source": [
    "### Training the model "
   ]
  },
  {
   "cell_type": "code",
   "execution_count": 26,
   "id": "0b189d7f-6726-45e5-9219-573ab0abe7dc",
   "metadata": {
    "scrolled": true
   },
   "outputs": [
    {
     "name": "stdout",
     "output_type": "stream",
     "text": [
      "Epoch 1/20\n",
      "\u001b[1m195/195\u001b[0m \u001b[32m━━━━━━━━━━━━━━━━━━━━\u001b[0m\u001b[37m\u001b[0m \u001b[1m192s\u001b[0m 942ms/step - accuracy: 0.6928 - loss: 0.9542 - val_accuracy: 0.9725 - val_loss: 0.1072\n",
      "Epoch 2/20\n",
      "\u001b[1m195/195\u001b[0m \u001b[32m━━━━━━━━━━━━━━━━━━━━\u001b[0m\u001b[37m\u001b[0m \u001b[1m134s\u001b[0m 684ms/step - accuracy: 0.9532 - loss: 0.1560 - val_accuracy: 0.9679 - val_loss: 0.0885\n",
      "Epoch 3/20\n",
      "\u001b[1m195/195\u001b[0m \u001b[32m━━━━━━━━━━━━━━━━━━━━\u001b[0m\u001b[37m\u001b[0m \u001b[1m132s\u001b[0m 677ms/step - accuracy: 0.9708 - loss: 0.0989 - val_accuracy: 0.9881 - val_loss: 0.0470\n",
      "Epoch 4/20\n",
      "\u001b[1m195/195\u001b[0m \u001b[32m━━━━━━━━━━━━━━━━━━━━\u001b[0m\u001b[37m\u001b[0m \u001b[1m132s\u001b[0m 675ms/step - accuracy: 0.9745 - loss: 0.0704 - val_accuracy: 0.9853 - val_loss: 0.0507\n",
      "Epoch 5/20\n",
      "\u001b[1m195/195\u001b[0m \u001b[32m━━━━━━━━━━━━━━━━━━━━\u001b[0m\u001b[37m\u001b[0m \u001b[1m131s\u001b[0m 673ms/step - accuracy: 0.9755 - loss: 0.0751 - val_accuracy: 0.9899 - val_loss: 0.0360\n",
      "Epoch 6/20\n",
      "\u001b[1m195/195\u001b[0m \u001b[32m━━━━━━━━━━━━━━━━━━━━\u001b[0m\u001b[37m\u001b[0m \u001b[1m131s\u001b[0m 673ms/step - accuracy: 0.9758 - loss: 0.0690 - val_accuracy: 0.9918 - val_loss: 0.0267\n",
      "Epoch 7/20\n",
      "\u001b[1m195/195\u001b[0m \u001b[32m━━━━━━━━━━━━━━━━━━━━\u001b[0m\u001b[37m\u001b[0m \u001b[1m132s\u001b[0m 676ms/step - accuracy: 0.9872 - loss: 0.0426 - val_accuracy: 0.9918 - val_loss: 0.0340\n",
      "Epoch 8/20\n",
      "\u001b[1m195/195\u001b[0m \u001b[32m━━━━━━━━━━━━━━━━━━━━\u001b[0m\u001b[37m\u001b[0m \u001b[1m516s\u001b[0m 3s/step - accuracy: 0.9857 - loss: 0.0455 - val_accuracy: 0.9899 - val_loss: 0.0387\n",
      "Epoch 9/20\n",
      "\u001b[1m195/195\u001b[0m \u001b[32m━━━━━━━━━━━━━━━━━━━━\u001b[0m\u001b[37m\u001b[0m \u001b[1m132s\u001b[0m 677ms/step - accuracy: 0.9872 - loss: 0.0391 - val_accuracy: 0.9899 - val_loss: 0.0318\n",
      "Epoch 10/20\n",
      "\u001b[1m195/195\u001b[0m \u001b[32m━━━━━━━━━━━━━━━━━━━━\u001b[0m\u001b[37m\u001b[0m \u001b[1m131s\u001b[0m 674ms/step - accuracy: 0.9808 - loss: 0.0476 - val_accuracy: 0.9872 - val_loss: 0.0388\n",
      "Epoch 11/20\n",
      "\u001b[1m195/195\u001b[0m \u001b[32m━━━━━━━━━━━━━━━━━━━━\u001b[0m\u001b[37m\u001b[0m \u001b[1m132s\u001b[0m 677ms/step - accuracy: 0.9887 - loss: 0.0413 - val_accuracy: 0.9954 - val_loss: 0.0194\n",
      "Epoch 12/20\n",
      "\u001b[1m195/195\u001b[0m \u001b[32m━━━━━━━━━━━━━━━━━━━━\u001b[0m\u001b[37m\u001b[0m \u001b[1m136s\u001b[0m 699ms/step - accuracy: 0.9873 - loss: 0.0379 - val_accuracy: 0.9927 - val_loss: 0.0264\n",
      "Epoch 13/20\n",
      "\u001b[1m195/195\u001b[0m \u001b[32m━━━━━━━━━━━━━━━━━━━━\u001b[0m\u001b[37m\u001b[0m \u001b[1m132s\u001b[0m 678ms/step - accuracy: 0.9843 - loss: 0.0404 - val_accuracy: 0.9936 - val_loss: 0.0237\n",
      "Epoch 14/20\n",
      "\u001b[1m195/195\u001b[0m \u001b[32m━━━━━━━━━━━━━━━━━━━━\u001b[0m\u001b[37m\u001b[0m \u001b[1m132s\u001b[0m 676ms/step - accuracy: 0.9895 - loss: 0.0337 - val_accuracy: 0.9872 - val_loss: 0.0347\n",
      "Epoch 15/20\n",
      "\u001b[1m195/195\u001b[0m \u001b[32m━━━━━━━━━━━━━━━━━━━━\u001b[0m\u001b[37m\u001b[0m \u001b[1m132s\u001b[0m 676ms/step - accuracy: 0.9875 - loss: 0.0377 - val_accuracy: 0.9808 - val_loss: 0.0671\n",
      "Epoch 16/20\n",
      "\u001b[1m195/195\u001b[0m \u001b[32m━━━━━━━━━━━━━━━━━━━━\u001b[0m\u001b[37m\u001b[0m \u001b[1m132s\u001b[0m 677ms/step - accuracy: 0.9864 - loss: 0.0397 - val_accuracy: 0.9844 - val_loss: 0.0455\n",
      "Epoch 17/20\n",
      "\u001b[1m195/195\u001b[0m \u001b[32m━━━━━━━━━━━━━━━━━━━━\u001b[0m\u001b[37m\u001b[0m \u001b[1m133s\u001b[0m 680ms/step - accuracy: 0.9927 - loss: 0.0225 - val_accuracy: 0.9899 - val_loss: 0.0392\n",
      "Epoch 18/20\n",
      "\u001b[1m195/195\u001b[0m \u001b[32m━━━━━━━━━━━━━━━━━━━━\u001b[0m\u001b[37m\u001b[0m \u001b[1m133s\u001b[0m 680ms/step - accuracy: 0.9857 - loss: 0.0406 - val_accuracy: 0.9881 - val_loss: 0.0359\n",
      "Epoch 19/20\n",
      "\u001b[1m195/195\u001b[0m \u001b[32m━━━━━━━━━━━━━━━━━━━━\u001b[0m\u001b[37m\u001b[0m \u001b[1m133s\u001b[0m 681ms/step - accuracy: 0.9856 - loss: 0.0386 - val_accuracy: 0.9908 - val_loss: 0.0264\n",
      "Epoch 20/20\n",
      "\u001b[1m195/195\u001b[0m \u001b[32m━━━━━━━━━━━━━━━━━━━━\u001b[0m\u001b[37m\u001b[0m \u001b[1m131s\u001b[0m 671ms/step - accuracy: 0.9894 - loss: 0.0322 - val_accuracy: 0.9863 - val_loss: 0.0374\n"
     ]
    }
   ],
   "source": [
    "history_Mobile = model_Mobile.fit(train_generator,\n",
    "                                 validation_data=val_generator,\n",
    "                                 epochs=20)"
   ]
  },
  {
   "cell_type": "code",
   "execution_count": 27,
   "id": "3dad2b4b-f03a-4667-979a-e221410a4860",
   "metadata": {},
   "outputs": [
    {
     "name": "stdout",
     "output_type": "stream",
     "text": [
      "\u001b[1m100/100\u001b[0m \u001b[32m━━━━━━━━━━━━━━━━━━━━\u001b[0m\u001b[37m\u001b[0m \u001b[1m45s\u001b[0m 441ms/step\n"
     ]
    }
   ],
   "source": [
    "# Evaluate \n",
    "pred_mobile = model_Mobile.predict(test_generator)     # get predictions "
   ]
  },
  {
   "cell_type": "code",
   "execution_count": 28,
   "id": "6a339193-9580-4555-8888-2c2d327eb4b4",
   "metadata": {},
   "outputs": [],
   "source": [
    "pred_mobile_class = pred_mobile.argmax(axis=1)      # get class indices "
   ]
  },
  {
   "cell_type": "code",
   "execution_count": 29,
   "id": "47885867-f847-4e0e-8076-cb2df97b6a79",
   "metadata": {},
   "outputs": [
    {
     "name": "stdout",
     "output_type": "stream",
     "text": [
      "                                  precision    recall  f1-score   support\n",
      "\n",
      "                     animal fish       0.99      1.00      0.99       521\n",
      "                animal fish bass       1.00      0.54      0.70        13\n",
      "   fish sea_food black_sea_sprat       1.00      0.99      1.00       298\n",
      "   fish sea_food gilt_head_bream       0.99      1.00      1.00       305\n",
      "   fish sea_food hourse_mackerel       1.00      0.99      1.00       286\n",
      "        fish sea_food red_mullet       1.00      0.98      0.99       291\n",
      "     fish sea_food red_sea_bream       1.00      1.00      1.00       273\n",
      "          fish sea_food sea_bass       0.99      1.00      1.00       327\n",
      "            fish sea_food shrimp       1.00      1.00      1.00       289\n",
      "fish sea_food striped_red_mullet       0.98      1.00      0.99       293\n",
      "             fish sea_food trout       1.00      1.00      1.00       292\n",
      "\n",
      "                        accuracy                           0.99      3188\n",
      "                       macro avg       1.00      0.95      0.97      3188\n",
      "                    weighted avg       0.99      0.99      0.99      3188\n",
      "\n"
     ]
    }
   ],
   "source": [
    "print(classification_report(y_true,pred_mobile_class,target_names=label_list))"
   ]
  },
  {
   "cell_type": "markdown",
   "id": "e8255c69-667f-430a-bc25-1b25fe045b3a",
   "metadata": {},
   "source": [
    "### Saving the model"
   ]
  },
  {
   "cell_type": "code",
   "execution_count": 30,
   "id": "564be65c-2536-4f02-916d-ac7b4e23d02d",
   "metadata": {},
   "outputs": [
    {
     "name": "stderr",
     "output_type": "stream",
     "text": [
      "WARNING:absl:You are saving your model as an HDF5 file via `model.save()` or `keras.saving.save_model(model)`. This file format is considered legacy. We recommend using instead the native Keras format, e.g. `model.save('my_model.keras')` or `keras.saving.save_model(model, 'my_model.keras')`. \n"
     ]
    }
   ],
   "source": [
    "model_Mobile.save('fish_Mobile_net_V2_1.h5')"
   ]
  },
  {
   "cell_type": "code",
   "execution_count": 31,
   "id": "92a11a17-cb5a-4017-a2e9-c7532932251d",
   "metadata": {},
   "outputs": [],
   "source": [
    "import pickle\n",
    " \n",
    "with open('history_model_mobile.pkl', 'wb') as f:\n",
    "    pickle.dump(history_Mobile.history, f)"
   ]
  },
  {
   "cell_type": "markdown",
   "id": "fe544b1a-7561-4aa0-8d61-aa10e2d67294",
   "metadata": {
    "jp-MarkdownHeadingCollapsed": true
   },
   "source": [
    "## ***VGG16***"
   ]
  },
  {
   "cell_type": "markdown",
   "id": "8ea87a82-076e-496a-9c40-c802973ffa51",
   "metadata": {},
   "source": [
    "### Importing Libraries "
   ]
  },
  {
   "cell_type": "code",
   "execution_count": 32,
   "id": "f141c11c-f27d-4ab0-acf9-811a4630b7a5",
   "metadata": {},
   "outputs": [],
   "source": [
    "from tensorflow.keras.applications import VGG16"
   ]
  },
  {
   "cell_type": "code",
   "execution_count": 33,
   "id": "4d9995a1-fc18-4b8a-98de-b122e7db9e31",
   "metadata": {},
   "outputs": [],
   "source": [
    "# Loading the base model \n",
    "base_model_vgg16 = VGG16(\n",
    "    input_shape=(img_height,img_width,3),\n",
    "    include_top=False,\n",
    "    weights='imagenet'\n",
    ")"
   ]
  },
  {
   "cell_type": "markdown",
   "id": "c7b396cf-c03f-4fad-be11-5e1526c0bc25",
   "metadata": {},
   "source": [
    "### Freezing the pre-trained model "
   ]
  },
  {
   "cell_type": "code",
   "execution_count": 34,
   "id": "9495d4ca-477d-428a-857d-efe5e9f4fc3f",
   "metadata": {},
   "outputs": [],
   "source": [
    "base_model_vgg16.trainable = False"
   ]
  },
  {
   "cell_type": "code",
   "execution_count": 35,
   "id": "c4193d3d-068c-4a82-8ece-3bfdf6a3afda",
   "metadata": {},
   "outputs": [],
   "source": [
    "# Since VGG16 doesn’t know about Fish classification images, we need to add our own dense layers to predict the 11 categories."
   ]
  },
  {
   "cell_type": "code",
   "execution_count": 36,
   "id": "f4b59697-f484-41d7-8540-17a3bac3fd95",
   "metadata": {},
   "outputs": [],
   "source": [
    "model_vgg = Sequential([ \n",
    "    base_model_vgg16,\n",
    "    GlobalAveragePooling2D(),\n",
    "    Dense(128,activation='relu'),\n",
    "    Dropout(0.30),\n",
    "    Dense(train_generator.num_classes,activation='softmax')\n",
    "])"
   ]
  },
  {
   "cell_type": "markdown",
   "id": "d11e9178-31c4-41d7-be38-fd39e3936938",
   "metadata": {},
   "source": [
    "### Compiling the model "
   ]
  },
  {
   "cell_type": "code",
   "execution_count": 37,
   "id": "7ee95cc7-0390-42e3-a4c4-3fa6cfd9527c",
   "metadata": {},
   "outputs": [],
   "source": [
    "model_vgg.compile(\n",
    "    optimizer='adam',\n",
    "    loss='categorical_crossentropy',\n",
    "    metrics=['accuracy']\n",
    ")"
   ]
  },
  {
   "cell_type": "markdown",
   "id": "32987b43-7540-4416-a83c-fc77f1435c40",
   "metadata": {},
   "source": [
    "### Training the model "
   ]
  },
  {
   "cell_type": "code",
   "execution_count": 38,
   "id": "961532d5-7afc-4045-b80a-05745ff047a2",
   "metadata": {},
   "outputs": [
    {
     "name": "stdout",
     "output_type": "stream",
     "text": [
      "Epoch 1/20\n",
      "\u001b[1m195/195\u001b[0m \u001b[32m━━━━━━━━━━━━━━━━━━━━\u001b[0m\u001b[37m\u001b[0m \u001b[1m520s\u001b[0m 3s/step - accuracy: 0.3228 - loss: 1.9859 - val_accuracy: 0.7152 - val_loss: 1.1447\n",
      "Epoch 2/20\n",
      "\u001b[1m195/195\u001b[0m \u001b[32m━━━━━━━━━━━━━━━━━━━━\u001b[0m\u001b[37m\u001b[0m \u001b[1m681s\u001b[0m 3s/step - accuracy: 0.6729 - loss: 1.1056 - val_accuracy: 0.7995 - val_loss: 0.7302\n",
      "Epoch 3/20\n",
      "\u001b[1m195/195\u001b[0m \u001b[32m━━━━━━━━━━━━━━━━━━━━\u001b[0m\u001b[37m\u001b[0m \u001b[1m827s\u001b[0m 4s/step - accuracy: 0.7738 - loss: 0.7689 - val_accuracy: 0.8745 - val_loss: 0.5139\n",
      "Epoch 4/20\n",
      "\u001b[1m195/195\u001b[0m \u001b[32m━━━━━━━━━━━━━━━━━━━━\u001b[0m\u001b[37m\u001b[0m \u001b[1m830s\u001b[0m 4s/step - accuracy: 0.8286 - loss: 0.5880 - val_accuracy: 0.8791 - val_loss: 0.4167\n",
      "Epoch 5/20\n",
      "\u001b[1m195/195\u001b[0m \u001b[32m━━━━━━━━━━━━━━━━━━━━\u001b[0m\u001b[37m\u001b[0m \u001b[1m832s\u001b[0m 4s/step - accuracy: 0.8499 - loss: 0.5019 - val_accuracy: 0.9194 - val_loss: 0.3475\n",
      "Epoch 6/20\n",
      "\u001b[1m195/195\u001b[0m \u001b[32m━━━━━━━━━━━━━━━━━━━━\u001b[0m\u001b[37m\u001b[0m \u001b[1m827s\u001b[0m 4s/step - accuracy: 0.8740 - loss: 0.4201 - val_accuracy: 0.9103 - val_loss: 0.3126\n",
      "Epoch 7/20\n",
      "\u001b[1m195/195\u001b[0m \u001b[32m━━━━━━━━━━━━━━━━━━━━\u001b[0m\u001b[37m\u001b[0m \u001b[1m828s\u001b[0m 4s/step - accuracy: 0.8877 - loss: 0.3774 - val_accuracy: 0.9414 - val_loss: 0.2499\n",
      "Epoch 8/20\n",
      "\u001b[1m195/195\u001b[0m \u001b[32m━━━━━━━━━━━━━━━━━━━━\u001b[0m\u001b[37m\u001b[0m \u001b[1m831s\u001b[0m 4s/step - accuracy: 0.8948 - loss: 0.3444 - val_accuracy: 0.9423 - val_loss: 0.2226\n",
      "Epoch 9/20\n",
      "\u001b[1m195/195\u001b[0m \u001b[32m━━━━━━━━━━━━━━━━━━━━\u001b[0m\u001b[37m\u001b[0m \u001b[1m636s\u001b[0m 3s/step - accuracy: 0.9037 - loss: 0.3094 - val_accuracy: 0.9441 - val_loss: 0.2144\n",
      "Epoch 10/20\n",
      "\u001b[1m195/195\u001b[0m \u001b[32m━━━━━━━━━━━━━━━━━━━━\u001b[0m\u001b[37m\u001b[0m \u001b[1m526s\u001b[0m 3s/step - accuracy: 0.9095 - loss: 0.2857 - val_accuracy: 0.9505 - val_loss: 0.1836\n",
      "Epoch 11/20\n",
      "\u001b[1m195/195\u001b[0m \u001b[32m━━━━━━━━━━━━━━━━━━━━\u001b[0m\u001b[37m\u001b[0m \u001b[1m530s\u001b[0m 3s/step - accuracy: 0.9210 - loss: 0.2715 - val_accuracy: 0.9496 - val_loss: 0.1793\n",
      "Epoch 12/20\n",
      "\u001b[1m195/195\u001b[0m \u001b[32m━━━━━━━━━━━━━━━━━━━━\u001b[0m\u001b[37m\u001b[0m \u001b[1m532s\u001b[0m 3s/step - accuracy: 0.9323 - loss: 0.2371 - val_accuracy: 0.9579 - val_loss: 0.1589\n",
      "Epoch 13/20\n",
      "\u001b[1m195/195\u001b[0m \u001b[32m━━━━━━━━━━━━━━━━━━━━\u001b[0m\u001b[37m\u001b[0m \u001b[1m533s\u001b[0m 3s/step - accuracy: 0.9303 - loss: 0.2282 - val_accuracy: 0.9533 - val_loss: 0.1624\n",
      "Epoch 14/20\n",
      "\u001b[1m195/195\u001b[0m \u001b[32m━━━━━━━━━━━━━━━━━━━━\u001b[0m\u001b[37m\u001b[0m \u001b[1m541s\u001b[0m 3s/step - accuracy: 0.9348 - loss: 0.2128 - val_accuracy: 0.9588 - val_loss: 0.1416\n",
      "Epoch 15/20\n",
      "\u001b[1m195/195\u001b[0m \u001b[32m━━━━━━━━━━━━━━━━━━━━\u001b[0m\u001b[37m\u001b[0m \u001b[1m531s\u001b[0m 3s/step - accuracy: 0.9331 - loss: 0.2142 - val_accuracy: 0.9716 - val_loss: 0.1298\n",
      "Epoch 16/20\n",
      "\u001b[1m195/195\u001b[0m \u001b[32m━━━━━━━━━━━━━━━━━━━━\u001b[0m\u001b[37m\u001b[0m \u001b[1m532s\u001b[0m 3s/step - accuracy: 0.9426 - loss: 0.1950 - val_accuracy: 0.9542 - val_loss: 0.1378\n",
      "Epoch 17/20\n",
      "\u001b[1m195/195\u001b[0m \u001b[32m━━━━━━━━━━━━━━━━━━━━\u001b[0m\u001b[37m\u001b[0m \u001b[1m524s\u001b[0m 3s/step - accuracy: 0.9402 - loss: 0.1925 - val_accuracy: 0.9771 - val_loss: 0.1144\n",
      "Epoch 18/20\n",
      "\u001b[1m195/195\u001b[0m \u001b[32m━━━━━━━━━━━━━━━━━━━━\u001b[0m\u001b[37m\u001b[0m \u001b[1m524s\u001b[0m 3s/step - accuracy: 0.9400 - loss: 0.1846 - val_accuracy: 0.9707 - val_loss: 0.1134\n",
      "Epoch 19/20\n",
      "\u001b[1m195/195\u001b[0m \u001b[32m━━━━━━━━━━━━━━━━━━━━\u001b[0m\u001b[37m\u001b[0m \u001b[1m1086s\u001b[0m 6s/step - accuracy: 0.9441 - loss: 0.1727 - val_accuracy: 0.9707 - val_loss: 0.1124\n",
      "Epoch 20/20\n",
      "\u001b[1m195/195\u001b[0m \u001b[32m━━━━━━━━━━━━━━━━━━━━\u001b[0m\u001b[37m\u001b[0m \u001b[1m805s\u001b[0m 4s/step - accuracy: 0.9464 - loss: 0.1692 - val_accuracy: 0.9670 - val_loss: 0.1245\n"
     ]
    }
   ],
   "source": [
    "# Using early_stopping\n",
    "from tensorflow.keras.callbacks import EarlyStopping\n",
    "early_stop = EarlyStopping(monitor='val_loss',\n",
    "                          patience=3,\n",
    "                          restore_best_weights=True)\n",
    "\n",
    "history_vgg = model_vgg.fit(\n",
    "    train_generator,\n",
    "    validation_data=val_generator,\n",
    "    epochs=20,\n",
    "    callbacks=early_stop\n",
    ")"
   ]
  },
  {
   "cell_type": "code",
   "execution_count": 39,
   "id": "58e13a7c-af9d-4a91-b439-291ba5195272",
   "metadata": {},
   "outputs": [
    {
     "name": "stdout",
     "output_type": "stream",
     "text": [
      "\u001b[1m100/100\u001b[0m \u001b[32m━━━━━━━━━━━━━━━━━━━━\u001b[0m\u001b[37m\u001b[0m \u001b[1m359s\u001b[0m 4s/step\n"
     ]
    }
   ],
   "source": [
    "# Evaluate \n",
    "pred_vgg = model_vgg.predict(test_generator)"
   ]
  },
  {
   "cell_type": "code",
   "execution_count": 40,
   "id": "1208ee95-d303-4c83-9511-385f05465155",
   "metadata": {},
   "outputs": [],
   "source": [
    "pred_vgg_class = pred_vgg.argmax(axis=1)"
   ]
  },
  {
   "cell_type": "code",
   "execution_count": 41,
   "id": "c87dcb28-6527-4dcb-a09c-a8c43fd5d99d",
   "metadata": {},
   "outputs": [
    {
     "name": "stdout",
     "output_type": "stream",
     "text": [
      "                                  precision    recall  f1-score   support\n",
      "\n",
      "                     animal fish       0.98      0.99      0.99       521\n",
      "                animal fish bass       1.00      0.08      0.14        13\n",
      "   fish sea_food black_sea_sprat       0.97      1.00      0.98       298\n",
      "   fish sea_food gilt_head_bream       0.94      1.00      0.97       305\n",
      "   fish sea_food hourse_mackerel       1.00      0.97      0.98       286\n",
      "        fish sea_food red_mullet       0.97      0.95      0.96       291\n",
      "     fish sea_food red_sea_bream       1.00      0.94      0.97       273\n",
      "          fish sea_food sea_bass       0.99      0.99      0.99       327\n",
      "            fish sea_food shrimp       0.95      1.00      0.97       289\n",
      "fish sea_food striped_red_mullet       0.94      0.91      0.93       293\n",
      "             fish sea_food trout       1.00      1.00      1.00       292\n",
      "\n",
      "                        accuracy                           0.97      3188\n",
      "                       macro avg       0.98      0.89      0.90      3188\n",
      "                    weighted avg       0.97      0.97      0.97      3188\n",
      "\n"
     ]
    }
   ],
   "source": [
    "print(classification_report(y_true,pred_vgg_class,target_names=label_list))"
   ]
  },
  {
   "cell_type": "code",
   "execution_count": 42,
   "id": "95a8e47d-4d6a-413b-88e5-5e083a11230d",
   "metadata": {},
   "outputs": [
    {
     "name": "stderr",
     "output_type": "stream",
     "text": [
      "WARNING:absl:You are saving your model as an HDF5 file via `model.save()` or `keras.saving.save_model(model)`. This file format is considered legacy. We recommend using instead the native Keras format, e.g. `model.save('my_model.keras')` or `keras.saving.save_model(model, 'my_model.keras')`. \n"
     ]
    }
   ],
   "source": [
    "model_vgg.save('fish_vgg_1.h5')"
   ]
  },
  {
   "cell_type": "code",
   "execution_count": 43,
   "id": "a091130d-fb25-4722-b0a0-9935beadaa65",
   "metadata": {},
   "outputs": [],
   "source": [
    "import pickle\n",
    "\n",
    "with open('history_model_vgg.pkl', 'wb') as f:\n",
    "    pickle.dump(history_vgg.history, f)"
   ]
  },
  {
   "cell_type": "markdown",
   "id": "c4d2d7f3-7b9b-47bf-aa0b-a69a25de2c23",
   "metadata": {
    "jp-MarkdownHeadingCollapsed": true
   },
   "source": [
    "## ***ResNet50***"
   ]
  },
  {
   "cell_type": "markdown",
   "id": "976a0d19-b396-46be-95a8-a073d2509d30",
   "metadata": {
    "jp-MarkdownHeadingCollapsed": true
   },
   "source": [
    "### Importing Libraries "
   ]
  },
  {
   "cell_type": "code",
   "execution_count": 44,
   "id": "26ee4793-21f4-4b51-b920-dbbfc6303827",
   "metadata": {},
   "outputs": [],
   "source": [
    "from tensorflow.keras.applications import ResNet50"
   ]
  },
  {
   "cell_type": "code",
   "execution_count": 45,
   "id": "ef5b4c6f-656e-4e0c-beef-e019bdf7e071",
   "metadata": {},
   "outputs": [],
   "source": [
    "# Loading base model \n",
    "base_model_res = ResNet50(include_top=False,\n",
    "                         input_shape=(img_height,img_width,3),\n",
    "                         weights='imagenet')"
   ]
  },
  {
   "cell_type": "markdown",
   "id": "d2d33b41-acf1-4814-8465-49f98343dd0e",
   "metadata": {},
   "source": [
    "### Freezing the pre-trained model "
   ]
  },
  {
   "cell_type": "code",
   "execution_count": 46,
   "id": "a5a48ac4-adbd-4eab-a5ea-4d8a0d8a6713",
   "metadata": {},
   "outputs": [],
   "source": [
    "base_model_res.trainable=False"
   ]
  },
  {
   "cell_type": "markdown",
   "id": "4e3c16ef-ca31-4a6f-90e6-3cf0711ec4b5",
   "metadata": {},
   "source": [
    "### Building the model "
   ]
  },
  {
   "cell_type": "code",
   "execution_count": 47,
   "id": "200b8690-f904-486a-a148-d55e80a68220",
   "metadata": {},
   "outputs": [],
   "source": [
    "model_res = Sequential([\n",
    "    base_model_res,\n",
    "    GlobalAveragePooling2D(),\n",
    "    Dense(128,activation='relu'),\n",
    "    Dropout(0.3),\n",
    "    Dense(train_generator.num_classes,activation='softmax')\n",
    "])"
   ]
  },
  {
   "cell_type": "markdown",
   "id": "9d7bed2b-2a25-46fe-bfed-ae0ba1c74da0",
   "metadata": {},
   "source": [
    "### Compiling the model "
   ]
  },
  {
   "cell_type": "code",
   "execution_count": 48,
   "id": "d6e8d6b8-ad8b-4661-b383-3271a6b6a5a9",
   "metadata": {},
   "outputs": [],
   "source": [
    "model_res.compile(optimizer='adam',\n",
    "                 loss='categorical_crossentropy',\n",
    "                 metrics=['accuracy'])"
   ]
  },
  {
   "cell_type": "markdown",
   "id": "de406e24-6551-4301-bc4f-a18b32297c60",
   "metadata": {},
   "source": [
    "### Training the model "
   ]
  },
  {
   "cell_type": "code",
   "execution_count": 49,
   "id": "34fdd2af-2552-45dc-9d07-80b741b376c9",
   "metadata": {},
   "outputs": [
    {
     "name": "stdout",
     "output_type": "stream",
     "text": [
      "Epoch 1/20\n",
      "\u001b[1m195/195\u001b[0m \u001b[32m━━━━━━━━━━━━━━━━━━━━\u001b[0m\u001b[37m\u001b[0m \u001b[1m346s\u001b[0m 2s/step - accuracy: 0.1517 - loss: 2.3603 - val_accuracy: 0.1877 - val_loss: 2.2164\n",
      "Epoch 2/20\n",
      "\u001b[1m195/195\u001b[0m \u001b[32m━━━━━━━━━━━━━━━━━━━━\u001b[0m\u001b[37m\u001b[0m \u001b[1m328s\u001b[0m 2s/step - accuracy: 0.1835 - loss: 2.2266 - val_accuracy: 0.2463 - val_loss: 2.1295\n",
      "Epoch 3/20\n",
      "\u001b[1m195/195\u001b[0m \u001b[32m━━━━━━━━━━━━━━━━━━━━\u001b[0m\u001b[37m\u001b[0m \u001b[1m328s\u001b[0m 2s/step - accuracy: 0.2020 - loss: 2.1628 - val_accuracy: 0.2253 - val_loss: 2.0821\n",
      "Epoch 4/20\n",
      "\u001b[1m195/195\u001b[0m \u001b[32m━━━━━━━━━━━━━━━━━━━━\u001b[0m\u001b[37m\u001b[0m \u001b[1m328s\u001b[0m 2s/step - accuracy: 0.2174 - loss: 2.1246 - val_accuracy: 0.3342 - val_loss: 2.0254\n",
      "Epoch 5/20\n",
      "\u001b[1m195/195\u001b[0m \u001b[32m━━━━━━━━━━━━━━━━━━━━\u001b[0m\u001b[37m\u001b[0m \u001b[1m328s\u001b[0m 2s/step - accuracy: 0.2379 - loss: 2.0869 - val_accuracy: 0.2866 - val_loss: 1.9903\n",
      "Epoch 6/20\n",
      "\u001b[1m195/195\u001b[0m \u001b[32m━━━━━━━━━━━━━━━━━━━━\u001b[0m\u001b[37m\u001b[0m \u001b[1m328s\u001b[0m 2s/step - accuracy: 0.2453 - loss: 2.0742 - val_accuracy: 0.3178 - val_loss: 1.9795\n",
      "Epoch 7/20\n",
      "\u001b[1m195/195\u001b[0m \u001b[32m━━━━━━━━━━━━━━━━━━━━\u001b[0m\u001b[37m\u001b[0m \u001b[1m332s\u001b[0m 2s/step - accuracy: 0.2513 - loss: 2.0588 - val_accuracy: 0.3269 - val_loss: 1.9289\n",
      "Epoch 8/20\n",
      "\u001b[1m195/195\u001b[0m \u001b[32m━━━━━━━━━━━━━━━━━━━━\u001b[0m\u001b[37m\u001b[0m \u001b[1m328s\u001b[0m 2s/step - accuracy: 0.2611 - loss: 2.0368 - val_accuracy: 0.4066 - val_loss: 1.9063\n",
      "Epoch 9/20\n",
      "\u001b[1m195/195\u001b[0m \u001b[32m━━━━━━━━━━━━━━━━━━━━\u001b[0m\u001b[37m\u001b[0m \u001b[1m328s\u001b[0m 2s/step - accuracy: 0.2866 - loss: 2.0032 - val_accuracy: 0.3581 - val_loss: 1.9021\n",
      "Epoch 10/20\n",
      "\u001b[1m195/195\u001b[0m \u001b[32m━━━━━━━━━━━━━━━━━━━━\u001b[0m\u001b[37m\u001b[0m \u001b[1m330s\u001b[0m 2s/step - accuracy: 0.2666 - loss: 2.0071 - val_accuracy: 0.3700 - val_loss: 1.9385\n",
      "Epoch 11/20\n",
      "\u001b[1m195/195\u001b[0m \u001b[32m━━━━━━━━━━━━━━━━━━━━\u001b[0m\u001b[37m\u001b[0m \u001b[1m322s\u001b[0m 2s/step - accuracy: 0.2949 - loss: 1.9883 - val_accuracy: 0.3654 - val_loss: 1.8778\n",
      "Epoch 12/20\n",
      "\u001b[1m195/195\u001b[0m \u001b[32m━━━━━━━━━━━━━━━━━━━━\u001b[0m\u001b[37m\u001b[0m \u001b[1m258s\u001b[0m 1s/step - accuracy: 0.2860 - loss: 1.9822 - val_accuracy: 0.3718 - val_loss: 1.8644\n",
      "Epoch 13/20\n",
      "\u001b[1m195/195\u001b[0m \u001b[32m━━━━━━━━━━━━━━━━━━━━\u001b[0m\u001b[37m\u001b[0m \u001b[1m268s\u001b[0m 1s/step - accuracy: 0.2923 - loss: 1.9665 - val_accuracy: 0.3782 - val_loss: 1.8241\n",
      "Epoch 14/20\n",
      "\u001b[1m195/195\u001b[0m \u001b[32m━━━━━━━━━━━━━━━━━━━━\u001b[0m\u001b[37m\u001b[0m \u001b[1m264s\u001b[0m 1s/step - accuracy: 0.2956 - loss: 1.9502 - val_accuracy: 0.4231 - val_loss: 1.7930\n",
      "Epoch 15/20\n",
      "\u001b[1m195/195\u001b[0m \u001b[32m━━━━━━━━━━━━━━━━━━━━\u001b[0m\u001b[37m\u001b[0m \u001b[1m266s\u001b[0m 1s/step - accuracy: 0.3046 - loss: 1.9325 - val_accuracy: 0.4029 - val_loss: 1.7687\n",
      "Epoch 16/20\n",
      "\u001b[1m195/195\u001b[0m \u001b[32m━━━━━━━━━━━━━━━━━━━━\u001b[0m\u001b[37m\u001b[0m \u001b[1m266s\u001b[0m 1s/step - accuracy: 0.3007 - loss: 1.9302 - val_accuracy: 0.3956 - val_loss: 1.7925\n",
      "Epoch 17/20\n",
      "\u001b[1m195/195\u001b[0m \u001b[32m━━━━━━━━━━━━━━━━━━━━\u001b[0m\u001b[37m\u001b[0m \u001b[1m266s\u001b[0m 1s/step - accuracy: 0.3109 - loss: 1.9184 - val_accuracy: 0.4139 - val_loss: 1.7693\n",
      "Epoch 18/20\n",
      "\u001b[1m195/195\u001b[0m \u001b[32m━━━━━━━━━━━━━━━━━━━━\u001b[0m\u001b[37m\u001b[0m \u001b[1m258s\u001b[0m 1s/step - accuracy: 0.3162 - loss: 1.9200 - val_accuracy: 0.4167 - val_loss: 1.7213\n",
      "Epoch 19/20\n",
      "\u001b[1m195/195\u001b[0m \u001b[32m━━━━━━━━━━━━━━━━━━━━\u001b[0m\u001b[37m\u001b[0m \u001b[1m257s\u001b[0m 1s/step - accuracy: 0.3066 - loss: 1.9073 - val_accuracy: 0.3755 - val_loss: 1.7835\n",
      "Epoch 20/20\n",
      "\u001b[1m195/195\u001b[0m \u001b[32m━━━━━━━━━━━━━━━━━━━━\u001b[0m\u001b[37m\u001b[0m \u001b[1m262s\u001b[0m 1s/step - accuracy: 0.3297 - loss: 1.8942 - val_accuracy: 0.4139 - val_loss: 1.7163\n"
     ]
    }
   ],
   "source": [
    "history_res = model_res.fit(train_generator,\n",
    "                           validation_data=val_generator,\n",
    "                           epochs=20,\n",
    "                           callbacks=early_stop)"
   ]
  },
  {
   "cell_type": "code",
   "execution_count": 50,
   "id": "fca2f509-045c-4473-9744-3f3fcbf6e53d",
   "metadata": {},
   "outputs": [
    {
     "name": "stderr",
     "output_type": "stream",
     "text": [
      "WARNING:absl:You are saving your model as an HDF5 file via `model.save()` or `keras.saving.save_model(model)`. This file format is considered legacy. We recommend using instead the native Keras format, e.g. `model.save('my_model.keras')` or `keras.saving.save_model(model, 'my_model.keras')`. \n"
     ]
    }
   ],
   "source": [
    "model_res.save('fish_res_1.h5')"
   ]
  },
  {
   "cell_type": "code",
   "execution_count": 51,
   "id": "5536c7c8-5f71-45ea-adb8-8fe3927acedd",
   "metadata": {},
   "outputs": [
    {
     "name": "stdout",
     "output_type": "stream",
     "text": [
      "\u001b[1m100/100\u001b[0m \u001b[32m━━━━━━━━━━━━━━━━━━━━\u001b[0m\u001b[37m\u001b[0m \u001b[1m107s\u001b[0m 1s/step\n"
     ]
    }
   ],
   "source": [
    "pred_res = model_res.predict(test_generator)"
   ]
  },
  {
   "cell_type": "code",
   "execution_count": 52,
   "id": "7cbc896b-2df8-4044-b90d-a36deec33182",
   "metadata": {},
   "outputs": [],
   "source": [
    "pred_res_class = pred_res.argmax(axis=1)\n",
    "y_true = test_generator.classes\n",
    "label_list = list(test_generator.class_indices.keys())"
   ]
  },
  {
   "cell_type": "code",
   "execution_count": 53,
   "id": "de346d8d-d886-4988-afe7-07295eeaea5b",
   "metadata": {},
   "outputs": [
    {
     "name": "stdout",
     "output_type": "stream",
     "text": [
      "                                  precision    recall  f1-score   support\n",
      "\n",
      "                     animal fish       0.57      0.80      0.67       521\n",
      "                animal fish bass       0.00      0.00      0.00        13\n",
      "   fish sea_food black_sea_sprat       0.41      0.14      0.21       298\n",
      "   fish sea_food gilt_head_bream       0.17      0.00      0.01       305\n",
      "   fish sea_food hourse_mackerel       0.27      0.64      0.38       286\n",
      "        fish sea_food red_mullet       0.48      0.31      0.37       291\n",
      "     fish sea_food red_sea_bream       0.42      0.47      0.45       273\n",
      "          fish sea_food sea_bass       0.00      0.00      0.00       327\n",
      "            fish sea_food shrimp       0.51      0.66      0.57       289\n",
      "fish sea_food striped_red_mullet       0.00      0.00      0.00       293\n",
      "             fish sea_food trout       0.28      0.77      0.41       292\n",
      "\n",
      "                        accuracy                           0.40      3188\n",
      "                       macro avg       0.28      0.35      0.28      3188\n",
      "                    weighted avg       0.32      0.40      0.33      3188\n",
      "\n"
     ]
    },
    {
     "name": "stderr",
     "output_type": "stream",
     "text": [
      "C:\\Anaconda3\\envs\\py310\\lib\\site-packages\\sklearn\\metrics\\_classification.py:1565: UndefinedMetricWarning: Precision is ill-defined and being set to 0.0 in labels with no predicted samples. Use `zero_division` parameter to control this behavior.\n",
      "  _warn_prf(average, modifier, f\"{metric.capitalize()} is\", len(result))\n",
      "C:\\Anaconda3\\envs\\py310\\lib\\site-packages\\sklearn\\metrics\\_classification.py:1565: UndefinedMetricWarning: Precision is ill-defined and being set to 0.0 in labels with no predicted samples. Use `zero_division` parameter to control this behavior.\n",
      "  _warn_prf(average, modifier, f\"{metric.capitalize()} is\", len(result))\n",
      "C:\\Anaconda3\\envs\\py310\\lib\\site-packages\\sklearn\\metrics\\_classification.py:1565: UndefinedMetricWarning: Precision is ill-defined and being set to 0.0 in labels with no predicted samples. Use `zero_division` parameter to control this behavior.\n",
      "  _warn_prf(average, modifier, f\"{metric.capitalize()} is\", len(result))\n"
     ]
    }
   ],
   "source": [
    "print(classification_report(y_true,pred_res_class, target_names=label_list))"
   ]
  },
  {
   "cell_type": "markdown",
   "id": "c1ef4c6b-49f7-45e4-9550-496d4152b41f",
   "metadata": {},
   "source": [
    "### Fine Tuning the model "
   ]
  },
  {
   "cell_type": "markdown",
   "id": "4e803b60-0273-47a9-89bf-872d7d4efe7e",
   "metadata": {},
   "source": [
    "### Unfreezing the first few layers of the pre-trained model "
   ]
  },
  {
   "cell_type": "code",
   "execution_count": 54,
   "id": "aa0b8458-5b18-4ee5-a4bd-b39e6a9f79e2",
   "metadata": {},
   "outputs": [],
   "source": [
    "base_model_res.trainable= True"
   ]
  },
  {
   "cell_type": "code",
   "execution_count": 55,
   "id": "f97f2e7d-263a-4b09-924e-d5629c7a0d24",
   "metadata": {},
   "outputs": [],
   "source": [
    "for i in base_model_res.layers[:30]:\n",
    "    i.trainable = False"
   ]
  },
  {
   "cell_type": "code",
   "execution_count": 56,
   "id": "56a23d35-e134-4b95-b986-99db1902f73f",
   "metadata": {},
   "outputs": [],
   "source": [
    "model_res.compile(optimizer='adam',\n",
    "                 loss='categorical_crossentropy',\n",
    "                 metrics=['accuracy'])"
   ]
  },
  {
   "cell_type": "code",
   "execution_count": 57,
   "id": "29f8957b-1f91-4059-8768-4799ec71ce0d",
   "metadata": {},
   "outputs": [
    {
     "name": "stdout",
     "output_type": "stream",
     "text": [
      "Epoch 1/20\n",
      "\u001b[1m195/195\u001b[0m \u001b[32m━━━━━━━━━━━━━━━━━━━━\u001b[0m\u001b[37m\u001b[0m \u001b[1m809s\u001b[0m 4s/step - accuracy: 0.1838 - loss: 5.3127 - val_accuracy: 0.0916 - val_loss: 2.6425\n",
      "Epoch 2/20\n",
      "\u001b[1m195/195\u001b[0m \u001b[32m━━━━━━━━━━━━━━━━━━━━\u001b[0m\u001b[37m\u001b[0m \u001b[1m799s\u001b[0m 4s/step - accuracy: 0.2665 - loss: 1.9938 - val_accuracy: 0.1081 - val_loss: 6.4247\n",
      "Epoch 3/20\n",
      "\u001b[1m195/195\u001b[0m \u001b[32m━━━━━━━━━━━━━━━━━━━━\u001b[0m\u001b[37m\u001b[0m \u001b[1m796s\u001b[0m 4s/step - accuracy: 0.3904 - loss: 1.5828 - val_accuracy: 0.3086 - val_loss: 5.5331\n",
      "Epoch 4/20\n",
      "\u001b[1m195/195\u001b[0m \u001b[32m━━━━━━━━━━━━━━━━━━━━\u001b[0m\u001b[37m\u001b[0m \u001b[1m794s\u001b[0m 4s/step - accuracy: 0.5002 - loss: 1.3197 - val_accuracy: 0.1712 - val_loss: 41.0977\n"
     ]
    }
   ],
   "source": [
    "history_res = model_res.fit(train_generator,\n",
    "                           validation_data=val_generator,\n",
    "                           epochs=20,\n",
    "                           callbacks=early_stop)"
   ]
  },
  {
   "cell_type": "code",
   "execution_count": 60,
   "id": "96c8b502-2394-4e09-ac4c-50158b320043",
   "metadata": {},
   "outputs": [
    {
     "name": "stdout",
     "output_type": "stream",
     "text": [
      "\u001b[1m100/100\u001b[0m \u001b[32m━━━━━━━━━━━━━━━━━━━━\u001b[0m\u001b[37m\u001b[0m \u001b[1m107s\u001b[0m 1s/step\n"
     ]
    }
   ],
   "source": [
    "pred_res = model_res.predict(test_generator)\n",
    "pred_res_class = pred_res.argmax(axis=1)\n",
    "y_true = test_generator.classes\n",
    "label_list = list(test_generator.class_indices.keys())"
   ]
  },
  {
   "cell_type": "code",
   "execution_count": 61,
   "id": "f699ee3e-2880-4794-beea-c8a87845b543",
   "metadata": {},
   "outputs": [
    {
     "name": "stdout",
     "output_type": "stream",
     "text": [
      "                                  precision    recall  f1-score   support\n",
      "\n",
      "                     animal fish       0.00      0.00      0.00       521\n",
      "                animal fish bass       0.00      0.00      0.00        13\n",
      "   fish sea_food black_sea_sprat       0.00      0.00      0.00       298\n",
      "   fish sea_food gilt_head_bream       0.00      0.00      0.00       305\n",
      "   fish sea_food hourse_mackerel       0.08      0.89      0.15       286\n",
      "        fish sea_food red_mullet       0.00      0.00      0.00       291\n",
      "     fish sea_food red_sea_bream       0.00      0.00      0.00       273\n",
      "          fish sea_food sea_bass       0.00      0.00      0.00       327\n",
      "            fish sea_food shrimp       0.00      0.00      0.00       289\n",
      "fish sea_food striped_red_mullet       0.00      0.00      0.00       293\n",
      "             fish sea_food trout       0.30      0.11      0.16       292\n",
      "\n",
      "                        accuracy                           0.09      3188\n",
      "                       macro avg       0.03      0.09      0.03      3188\n",
      "                    weighted avg       0.03      0.09      0.03      3188\n",
      "\n"
     ]
    },
    {
     "name": "stderr",
     "output_type": "stream",
     "text": [
      "C:\\Anaconda3\\envs\\py310\\lib\\site-packages\\sklearn\\metrics\\_classification.py:1565: UndefinedMetricWarning: Precision is ill-defined and being set to 0.0 in labels with no predicted samples. Use `zero_division` parameter to control this behavior.\n",
      "  _warn_prf(average, modifier, f\"{metric.capitalize()} is\", len(result))\n",
      "C:\\Anaconda3\\envs\\py310\\lib\\site-packages\\sklearn\\metrics\\_classification.py:1565: UndefinedMetricWarning: Precision is ill-defined and being set to 0.0 in labels with no predicted samples. Use `zero_division` parameter to control this behavior.\n",
      "  _warn_prf(average, modifier, f\"{metric.capitalize()} is\", len(result))\n",
      "C:\\Anaconda3\\envs\\py310\\lib\\site-packages\\sklearn\\metrics\\_classification.py:1565: UndefinedMetricWarning: Precision is ill-defined and being set to 0.0 in labels with no predicted samples. Use `zero_division` parameter to control this behavior.\n",
      "  _warn_prf(average, modifier, f\"{metric.capitalize()} is\", len(result))\n"
     ]
    }
   ],
   "source": [
    "print(classification_report(y_true,pred_res_class, target_names=label_list))"
   ]
  },
  {
   "cell_type": "code",
   "execution_count": 62,
   "id": "a99f7599-7c3f-48c7-abc3-46ede172693d",
   "metadata": {},
   "outputs": [
    {
     "name": "stderr",
     "output_type": "stream",
     "text": [
      "WARNING:absl:You are saving your model as an HDF5 file via `model.save()` or `keras.saving.save_model(model)`. This file format is considered legacy. We recommend using instead the native Keras format, e.g. `model.save('my_model.keras')` or `keras.saving.save_model(model, 'my_model.keras')`. \n"
     ]
    }
   ],
   "source": [
    "model_res.save('fish_restnet_1.h5')"
   ]
  },
  {
   "cell_type": "code",
   "execution_count": 63,
   "id": "85fdd074-89c1-4206-a45b-2f2d05236ab9",
   "metadata": {},
   "outputs": [],
   "source": [
    "import pickle\n",
    "\n",
    "with open('history_model_res.pkl', 'wb') as f:\n",
    "    pickle.dump(history_res.history, f)"
   ]
  },
  {
   "cell_type": "markdown",
   "id": "35504da2-5df5-49c2-be2b-57f68d511dab",
   "metadata": {
    "jp-MarkdownHeadingCollapsed": true
   },
   "source": [
    "## ***DenseNet121***"
   ]
  },
  {
   "cell_type": "markdown",
   "id": "caea3b51-20f2-488e-b216-14a77f93ce44",
   "metadata": {},
   "source": [
    "### Importing libraries "
   ]
  },
  {
   "cell_type": "code",
   "execution_count": 64,
   "id": "1aee5885-2759-4ab5-a29c-24756988791c",
   "metadata": {},
   "outputs": [],
   "source": [
    "from tensorflow.keras.applications import DenseNet121"
   ]
  },
  {
   "cell_type": "markdown",
   "id": "edb0155b-b057-4c50-bb0a-354835e36052",
   "metadata": {},
   "source": [
    "### Loading the base model "
   ]
  },
  {
   "cell_type": "code",
   "execution_count": 65,
   "id": "b4d55ea5-7d2b-4956-9da7-6819f5f24b0d",
   "metadata": {},
   "outputs": [],
   "source": [
    "base_model_Dense = DenseNet121(weights='imagenet',\n",
    "                              input_shape=(img_height,img_width,3),\n",
    "                              include_top=False)"
   ]
  },
  {
   "cell_type": "markdown",
   "id": "9786cc78-5534-4533-b5a9-e1d1b194a147",
   "metadata": {},
   "source": [
    "### Freezing the pre-trained model "
   ]
  },
  {
   "cell_type": "code",
   "execution_count": 66,
   "id": "a77f440e-dfbc-4791-a418-ed63241f3fba",
   "metadata": {},
   "outputs": [],
   "source": [
    "base_model_Dense.trainable = False"
   ]
  },
  {
   "cell_type": "code",
   "execution_count": 67,
   "id": "32fb4edf-edf0-48fb-b97b-0c1dc4690f98",
   "metadata": {},
   "outputs": [],
   "source": [
    "# Adding custom layer\n",
    "model_dense = Sequential([\n",
    "    base_model_Dense,\n",
    "    GlobalAveragePooling2D(),\n",
    "    Dense(128,activation='relu'),\n",
    "    Dropout(0.3),\n",
    "    Dense(train_generator.num_classes,activation='softmax')\n",
    "])"
   ]
  },
  {
   "cell_type": "markdown",
   "id": "67508a72-f6d2-421b-ab4f-21ddc869bb06",
   "metadata": {},
   "source": [
    "### Compiling the model "
   ]
  },
  {
   "cell_type": "code",
   "execution_count": 68,
   "id": "b5f50b43-e97e-4e3a-b5e2-dc257c62c05e",
   "metadata": {},
   "outputs": [],
   "source": [
    "model_dense.compile(optimizer='adam',\n",
    "                   loss='categorical_crossentropy',\n",
    "                   metrics=['accuracy'])"
   ]
  },
  {
   "cell_type": "markdown",
   "id": "8e947e1d-7222-4acc-abf7-ad01b2c5a2ff",
   "metadata": {},
   "source": [
    "### Training the model "
   ]
  },
  {
   "cell_type": "code",
   "execution_count": 69,
   "id": "05644508-5959-45e5-882c-b8872a905d34",
   "metadata": {},
   "outputs": [
    {
     "name": "stdout",
     "output_type": "stream",
     "text": [
      "Epoch 1/20\n",
      "\u001b[1m195/195\u001b[0m \u001b[32m━━━━━━━━━━━━━━━━━━━━\u001b[0m\u001b[37m\u001b[0m \u001b[1m300s\u001b[0m 1s/step - accuracy: 0.6271 - loss: 1.2086 - val_accuracy: 0.9780 - val_loss: 0.1323\n",
      "Epoch 2/20\n",
      "\u001b[1m195/195\u001b[0m \u001b[32m━━━━━━━━━━━━━━━━━━━━\u001b[0m\u001b[37m\u001b[0m \u001b[1m288s\u001b[0m 1s/step - accuracy: 0.9394 - loss: 0.2183 - val_accuracy: 0.9799 - val_loss: 0.0697\n",
      "Epoch 3/20\n",
      "\u001b[1m195/195\u001b[0m \u001b[32m━━━━━━━━━━━━━━━━━━━━\u001b[0m\u001b[37m\u001b[0m \u001b[1m287s\u001b[0m 1s/step - accuracy: 0.9709 - loss: 0.1086 - val_accuracy: 0.9844 - val_loss: 0.0484\n",
      "Epoch 4/20\n",
      "\u001b[1m195/195\u001b[0m \u001b[32m━━━━━━━━━━━━━━━━━━━━\u001b[0m\u001b[37m\u001b[0m \u001b[1m299s\u001b[0m 2s/step - accuracy: 0.9703 - loss: 0.0976 - val_accuracy: 0.9844 - val_loss: 0.0392\n",
      "Epoch 5/20\n",
      "\u001b[1m195/195\u001b[0m \u001b[32m━━━━━━━━━━━━━━━━━━━━\u001b[0m\u001b[37m\u001b[0m \u001b[1m351s\u001b[0m 2s/step - accuracy: 0.9774 - loss: 0.0757 - val_accuracy: 0.9936 - val_loss: 0.0304\n",
      "Epoch 6/20\n",
      "\u001b[1m195/195\u001b[0m \u001b[32m━━━━━━━━━━━━━━━━━━━━\u001b[0m\u001b[37m\u001b[0m \u001b[1m351s\u001b[0m 2s/step - accuracy: 0.9788 - loss: 0.0656 - val_accuracy: 0.9936 - val_loss: 0.0237\n",
      "Epoch 7/20\n",
      "\u001b[1m195/195\u001b[0m \u001b[32m━━━━━━━━━━━━━━━━━━━━\u001b[0m\u001b[37m\u001b[0m \u001b[1m353s\u001b[0m 2s/step - accuracy: 0.9842 - loss: 0.0544 - val_accuracy: 0.9899 - val_loss: 0.0310\n",
      "Epoch 8/20\n",
      "\u001b[1m195/195\u001b[0m \u001b[32m━━━━━━━━━━━━━━━━━━━━\u001b[0m\u001b[37m\u001b[0m \u001b[1m351s\u001b[0m 2s/step - accuracy: 0.9794 - loss: 0.0586 - val_accuracy: 0.9963 - val_loss: 0.0179\n",
      "Epoch 9/20\n",
      "\u001b[1m195/195\u001b[0m \u001b[32m━━━━━━━━━━━━━━━━━━━━\u001b[0m\u001b[37m\u001b[0m \u001b[1m384s\u001b[0m 2s/step - accuracy: 0.9871 - loss: 0.0427 - val_accuracy: 0.9945 - val_loss: 0.0176\n",
      "Epoch 10/20\n",
      "\u001b[1m195/195\u001b[0m \u001b[32m━━━━━━━━━━━━━━━━━━━━\u001b[0m\u001b[37m\u001b[0m \u001b[1m351s\u001b[0m 2s/step - accuracy: 0.9885 - loss: 0.0426 - val_accuracy: 0.9927 - val_loss: 0.0220\n",
      "Epoch 11/20\n",
      "\u001b[1m195/195\u001b[0m \u001b[32m━━━━━━━━━━━━━━━━━━━━\u001b[0m\u001b[37m\u001b[0m \u001b[1m350s\u001b[0m 2s/step - accuracy: 0.9799 - loss: 0.0538 - val_accuracy: 0.9936 - val_loss: 0.0228\n",
      "Epoch 12/20\n",
      "\u001b[1m195/195\u001b[0m \u001b[32m━━━━━━━━━━━━━━━━━━━━\u001b[0m\u001b[37m\u001b[0m \u001b[1m350s\u001b[0m 2s/step - accuracy: 0.9895 - loss: 0.0372 - val_accuracy: 0.9908 - val_loss: 0.0238\n"
     ]
    }
   ],
   "source": [
    "history_dense = model_dense.fit(train_generator,\n",
    "                               epochs=20,\n",
    "                               validation_data=val_generator,callbacks= early_stop\n",
    "                               )"
   ]
  },
  {
   "cell_type": "code",
   "execution_count": 70,
   "id": "b9df0fc2-a30d-494b-a370-5f58c16720c9",
   "metadata": {},
   "outputs": [
    {
     "name": "stdout",
     "output_type": "stream",
     "text": [
      "\u001b[1m100/100\u001b[0m \u001b[32m━━━━━━━━━━━━━━━━━━━━\u001b[0m\u001b[37m\u001b[0m \u001b[1m165s\u001b[0m 2s/step\n"
     ]
    }
   ],
   "source": [
    "pred_dense = model_dense.predict(test_generator)\n",
    "pred_dense_class = pred_dense.argmax(axis=1)\n",
    "y_true = test_generator.classes\n",
    "label_list = list(test_generator.class_indices.keys())"
   ]
  },
  {
   "cell_type": "code",
   "execution_count": 71,
   "id": "f6c5f7ab-a71a-463c-abf6-73df5d80256b",
   "metadata": {},
   "outputs": [
    {
     "name": "stdout",
     "output_type": "stream",
     "text": [
      "                                  precision    recall  f1-score   support\n",
      "\n",
      "                     animal fish       0.99      0.99      0.99       521\n",
      "                animal fish bass       0.77      0.77      0.77        13\n",
      "   fish sea_food black_sea_sprat       1.00      1.00      1.00       298\n",
      "   fish sea_food gilt_head_bream       1.00      0.99      0.99       305\n",
      "   fish sea_food hourse_mackerel       0.99      1.00      0.99       286\n",
      "        fish sea_food red_mullet       1.00      1.00      1.00       291\n",
      "     fish sea_food red_sea_bream       0.99      1.00      0.99       273\n",
      "          fish sea_food sea_bass       1.00      1.00      1.00       327\n",
      "            fish sea_food shrimp       1.00      1.00      1.00       289\n",
      "fish sea_food striped_red_mullet       1.00      0.99      1.00       293\n",
      "             fish sea_food trout       1.00      1.00      1.00       292\n",
      "\n",
      "                        accuracy                           1.00      3188\n",
      "                       macro avg       0.98      0.98      0.98      3188\n",
      "                    weighted avg       1.00      1.00      1.00      3188\n",
      "\n"
     ]
    }
   ],
   "source": [
    "print(classification_report(y_true,pred_dense_class, target_names=label_list))"
   ]
  },
  {
   "cell_type": "code",
   "execution_count": 72,
   "id": "74eb7a6c-2dbd-4eac-92ad-bd3dfe260b26",
   "metadata": {},
   "outputs": [
    {
     "name": "stderr",
     "output_type": "stream",
     "text": [
      "WARNING:absl:You are saving your model as an HDF5 file via `model.save()` or `keras.saving.save_model(model)`. This file format is considered legacy. We recommend using instead the native Keras format, e.g. `model.save('my_model.keras')` or `keras.saving.save_model(model, 'my_model.keras')`. \n"
     ]
    }
   ],
   "source": [
    "model_dense.save('fish_dense_1.h5')"
   ]
  },
  {
   "cell_type": "code",
   "execution_count": 73,
   "id": "7dabc499-37ec-42c8-872d-4789d1a835d3",
   "metadata": {},
   "outputs": [],
   "source": [
    "import pickle\n",
    "\n",
    "with open('history_model_dense.pkl', 'wb') as f:\n",
    "    pickle.dump(history_dense.history, f)"
   ]
  },
  {
   "cell_type": "markdown",
   "id": "caa93b86-ede8-4a4a-98dc-3e7dab4591bf",
   "metadata": {
    "jp-MarkdownHeadingCollapsed": true
   },
   "source": [
    "## ***InceptionV3***"
   ]
  },
  {
   "cell_type": "markdown",
   "id": "de40abf4-e809-487a-a10a-c6807db66c5b",
   "metadata": {},
   "source": [
    "### Importing Libraries "
   ]
  },
  {
   "cell_type": "code",
   "execution_count": 74,
   "id": "744e037b-41fa-4ec4-b99d-fa0295c86226",
   "metadata": {},
   "outputs": [],
   "source": [
    "from tensorflow.keras.applications import InceptionV3"
   ]
  },
  {
   "cell_type": "markdown",
   "id": "6030bee6-2f9b-4755-a482-2c0dc663f52d",
   "metadata": {},
   "source": [
    "### Defining generators for InceptionV3"
   ]
  },
  {
   "cell_type": "code",
   "execution_count": 75,
   "id": "984f0c9f-82ce-4df0-8b66-f5d044dcd7eb",
   "metadata": {},
   "outputs": [],
   "source": [
    "# As it works efficiently with target size of 299,299, so we will create a generator for InceptionV3 with this size."
   ]
  },
  {
   "cell_type": "code",
   "execution_count": 76,
   "id": "1fc61b6a-31c7-47af-84d4-f6e604f343a3",
   "metadata": {},
   "outputs": [
    {
     "name": "stdout",
     "output_type": "stream",
     "text": [
      "Found 6225 images belonging to 11 classes.\n",
      "Found 1092 images belonging to 11 classes.\n",
      "Found 3188 images belonging to 11 classes.\n"
     ]
    }
   ],
   "source": [
    "train_generator_inc = train_gen.flow_from_directory(\n",
    "    base_dir + 'train',\n",
    "    target_size=(299,299),\n",
    "    batch_size=32,\n",
    "    class_mode='categorical',\n",
    "    shuffle=True\n",
    ")\n",
    "\n",
    "val_generator_inc = val_gen.flow_from_directory(\n",
    "    base_dir + 'val',\n",
    "    target_size = (299,299),\n",
    "    batch_size = 32,\n",
    "    class_mode = 'categorical',\n",
    "    shuffle = False\n",
    ")\n",
    "\n",
    "test_generator_inc = test_gen.flow_from_directory(\n",
    "    base_dir + 'test',\n",
    "    target_size=(299,299),\n",
    "    batch_size=32,\n",
    "    class_mode='categorical',\n",
    "    shuffle=False\n",
    ")"
   ]
  },
  {
   "cell_type": "markdown",
   "id": "02150b9f-d622-4d48-8b54-04605e8c06db",
   "metadata": {},
   "source": [
    "### loading the base model "
   ]
  },
  {
   "cell_type": "code",
   "execution_count": 77,
   "id": "ca10f711-9578-4475-ae60-1dd738b4e00e",
   "metadata": {},
   "outputs": [],
   "source": [
    "base_model_inc = InceptionV3(include_top=False,\n",
    "                            input_shape=(299,299,3),\n",
    "                            weights='imagenet')"
   ]
  },
  {
   "cell_type": "markdown",
   "id": "b57850f5-2a88-4af7-bc4d-2adfda83264a",
   "metadata": {},
   "source": [
    "### Freezing the pre-trained model"
   ]
  },
  {
   "cell_type": "code",
   "execution_count": 78,
   "id": "11c25f17-6cdf-4dd6-875d-7584fcc8b1d3",
   "metadata": {},
   "outputs": [],
   "source": [
    "base_model_inc.trainable = False"
   ]
  },
  {
   "cell_type": "code",
   "execution_count": 79,
   "id": "3ad2bfc8-146a-4f53-bcf1-b2b66911e32f",
   "metadata": {},
   "outputs": [],
   "source": [
    "# Adding custom layer\n",
    "model_inc = Sequential([\n",
    "    base_model_inc,\n",
    "    GlobalAveragePooling2D(),\n",
    "    Dense(128,activation='relu'),\n",
    "    Dropout(0.3),\n",
    "    Dense(train_generator_inc.num_classes,activation='softmax')\n",
    "])"
   ]
  },
  {
   "cell_type": "markdown",
   "id": "8a8cb134-5cf4-402e-89d0-cf3ef0d97500",
   "metadata": {},
   "source": [
    "### Compiling the model "
   ]
  },
  {
   "cell_type": "code",
   "execution_count": 80,
   "id": "87a83805-aa05-485f-9597-99e72a0a11bc",
   "metadata": {},
   "outputs": [],
   "source": [
    "model_inc.compile(optimizer='adam',\n",
    "                 loss='categorical_crossentropy',\n",
    "                 metrics=['accuracy'])"
   ]
  },
  {
   "cell_type": "markdown",
   "id": "d0f7da8c-1e6d-4760-a7a7-72989b0f634e",
   "metadata": {},
   "source": [
    "### Training the model "
   ]
  },
  {
   "cell_type": "code",
   "execution_count": 81,
   "id": "c7f5d7e1-0519-42c0-8a0e-ab5827645b36",
   "metadata": {},
   "outputs": [
    {
     "name": "stderr",
     "output_type": "stream",
     "text": [
      "C:\\Anaconda3\\envs\\py310\\lib\\site-packages\\keras\\src\\trainers\\data_adapters\\py_dataset_adapter.py:121: UserWarning: Your `PyDataset` class should call `super().__init__(**kwargs)` in its constructor. `**kwargs` can include `workers`, `use_multiprocessing`, `max_queue_size`. Do not pass these arguments to `fit()`, as they will be ignored.\n",
      "  self._warn_if_super_not_called()\n"
     ]
    },
    {
     "name": "stdout",
     "output_type": "stream",
     "text": [
      "Epoch 1/20\n",
      "\u001b[1m195/195\u001b[0m \u001b[32m━━━━━━━━━━━━━━━━━━━━\u001b[0m\u001b[37m\u001b[0m \u001b[1m444s\u001b[0m 2s/step - accuracy: 0.6173 - loss: 1.1587 - val_accuracy: 0.9377 - val_loss: 0.2307\n",
      "Epoch 2/20\n",
      "\u001b[1m195/195\u001b[0m \u001b[32m━━━━━━━━━━━━━━━━━━━━\u001b[0m\u001b[37m\u001b[0m \u001b[1m430s\u001b[0m 2s/step - accuracy: 0.9229 - loss: 0.2611 - val_accuracy: 0.9698 - val_loss: 0.1176\n",
      "Epoch 3/20\n",
      "\u001b[1m195/195\u001b[0m \u001b[32m━━━━━━━━━━━━━━━━━━━━\u001b[0m\u001b[37m\u001b[0m \u001b[1m424s\u001b[0m 2s/step - accuracy: 0.9506 - loss: 0.1727 - val_accuracy: 0.9689 - val_loss: 0.1095\n",
      "Epoch 4/20\n",
      "\u001b[1m195/195\u001b[0m \u001b[32m━━━━━━━━━━━━━━━━━━━━\u001b[0m\u001b[37m\u001b[0m \u001b[1m414s\u001b[0m 2s/step - accuracy: 0.9504 - loss: 0.1434 - val_accuracy: 0.9799 - val_loss: 0.0721\n",
      "Epoch 5/20\n",
      "\u001b[1m195/195\u001b[0m \u001b[32m━━━━━━━━━━━━━━━━━━━━\u001b[0m\u001b[37m\u001b[0m \u001b[1m414s\u001b[0m 2s/step - accuracy: 0.9710 - loss: 0.0979 - val_accuracy: 0.9863 - val_loss: 0.0528\n",
      "Epoch 6/20\n",
      "\u001b[1m195/195\u001b[0m \u001b[32m━━━━━━━━━━━━━━━━━━━━\u001b[0m\u001b[37m\u001b[0m \u001b[1m419s\u001b[0m 2s/step - accuracy: 0.9687 - loss: 0.0923 - val_accuracy: 0.9890 - val_loss: 0.0409\n",
      "Epoch 7/20\n",
      "\u001b[1m195/195\u001b[0m \u001b[32m━━━━━━━━━━━━━━━━━━━━\u001b[0m\u001b[37m\u001b[0m \u001b[1m410s\u001b[0m 2s/step - accuracy: 0.9777 - loss: 0.0755 - val_accuracy: 0.9853 - val_loss: 0.0457\n",
      "Epoch 8/20\n",
      "\u001b[1m195/195\u001b[0m \u001b[32m━━━━━━━━━━━━━━━━━━━━\u001b[0m\u001b[37m\u001b[0m \u001b[1m287s\u001b[0m 1s/step - accuracy: 0.9712 - loss: 0.0796 - val_accuracy: 0.9835 - val_loss: 0.0602\n",
      "Epoch 9/20\n",
      "\u001b[1m195/195\u001b[0m \u001b[32m━━━━━━━━━━━━━━━━━━━━\u001b[0m\u001b[37m\u001b[0m \u001b[1m291s\u001b[0m 1s/step - accuracy: 0.9748 - loss: 0.0773 - val_accuracy: 0.9927 - val_loss: 0.0331\n",
      "Epoch 10/20\n",
      "\u001b[1m195/195\u001b[0m \u001b[32m━━━━━━━━━━━━━━━━━━━━\u001b[0m\u001b[37m\u001b[0m \u001b[1m295s\u001b[0m 2s/step - accuracy: 0.9717 - loss: 0.0826 - val_accuracy: 0.9872 - val_loss: 0.0393\n",
      "Epoch 11/20\n",
      "\u001b[1m195/195\u001b[0m \u001b[32m━━━━━━━━━━━━━━━━━━━━\u001b[0m\u001b[37m\u001b[0m \u001b[1m286s\u001b[0m 1s/step - accuracy: 0.9793 - loss: 0.0626 - val_accuracy: 0.9890 - val_loss: 0.0377\n",
      "Epoch 12/20\n",
      "\u001b[1m195/195\u001b[0m \u001b[32m━━━━━━━━━━━━━━━━━━━━\u001b[0m\u001b[37m\u001b[0m \u001b[1m286s\u001b[0m 1s/step - accuracy: 0.9754 - loss: 0.0668 - val_accuracy: 0.9908 - val_loss: 0.0242\n",
      "Epoch 13/20\n",
      "\u001b[1m195/195\u001b[0m \u001b[32m━━━━━━━━━━━━━━━━━━━━\u001b[0m\u001b[37m\u001b[0m \u001b[1m285s\u001b[0m 1s/step - accuracy: 0.9835 - loss: 0.0493 - val_accuracy: 0.9918 - val_loss: 0.0220\n",
      "Epoch 14/20\n",
      "\u001b[1m195/195\u001b[0m \u001b[32m━━━━━━━━━━━━━━━━━━━━\u001b[0m\u001b[37m\u001b[0m \u001b[1m285s\u001b[0m 1s/step - accuracy: 0.9786 - loss: 0.0653 - val_accuracy: 0.9863 - val_loss: 0.0393\n",
      "Epoch 15/20\n",
      "\u001b[1m195/195\u001b[0m \u001b[32m━━━━━━━━━━━━━━━━━━━━\u001b[0m\u001b[37m\u001b[0m \u001b[1m285s\u001b[0m 1s/step - accuracy: 0.9857 - loss: 0.0487 - val_accuracy: 0.9908 - val_loss: 0.0274\n",
      "Epoch 16/20\n",
      "\u001b[1m195/195\u001b[0m \u001b[32m━━━━━━━━━━━━━━━━━━━━\u001b[0m\u001b[37m\u001b[0m \u001b[1m285s\u001b[0m 1s/step - accuracy: 0.9851 - loss: 0.0462 - val_accuracy: 0.9808 - val_loss: 0.0556\n"
     ]
    }
   ],
   "source": [
    "history_inc = model_inc.fit(train_generator_inc,\n",
    "                           validation_data=val_generator_inc,\n",
    "                           epochs=20,\n",
    "                           callbacks=early_stop)"
   ]
  },
  {
   "cell_type": "code",
   "execution_count": 82,
   "id": "c74da32b-699e-45ce-8c0e-b28a686388d4",
   "metadata": {},
   "outputs": [
    {
     "name": "stdout",
     "output_type": "stream",
     "text": [
      "\u001b[1m100/100\u001b[0m \u001b[32m━━━━━━━━━━━━━━━━━━━━\u001b[0m\u001b[37m\u001b[0m \u001b[1m117s\u001b[0m 1s/step\n"
     ]
    }
   ],
   "source": [
    "pred_inc = model_inc.predict(test_generator_inc)"
   ]
  },
  {
   "cell_type": "code",
   "execution_count": 83,
   "id": "30a2cc8e-3532-441d-ac17-2a1a0f92400c",
   "metadata": {},
   "outputs": [],
   "source": [
    "pred_inc_class = pred_inc.argmax(axis=1)\n",
    "y_true_inc = test_generator_inc.classes\n",
    "label_list_inc = list(test_generator_inc.class_indices.keys())"
   ]
  },
  {
   "cell_type": "code",
   "execution_count": 84,
   "id": "06463e62-acdd-46ab-bf2a-0e767515b76a",
   "metadata": {},
   "outputs": [
    {
     "name": "stdout",
     "output_type": "stream",
     "text": [
      "                                  precision    recall  f1-score   support\n",
      "\n",
      "                     animal fish       0.99      1.00      0.99       521\n",
      "                animal fish bass       1.00      0.69      0.82        13\n",
      "   fish sea_food black_sea_sprat       1.00      1.00      1.00       298\n",
      "   fish sea_food gilt_head_bream       1.00      1.00      1.00       305\n",
      "   fish sea_food hourse_mackerel       0.99      1.00      1.00       286\n",
      "        fish sea_food red_mullet       1.00      0.99      1.00       291\n",
      "     fish sea_food red_sea_bream       1.00      1.00      1.00       273\n",
      "          fish sea_food sea_bass       1.00      1.00      1.00       327\n",
      "            fish sea_food shrimp       1.00      1.00      1.00       289\n",
      "fish sea_food striped_red_mullet       0.99      0.99      0.99       293\n",
      "             fish sea_food trout       1.00      1.00      1.00       292\n",
      "\n",
      "                        accuracy                           1.00      3188\n",
      "                       macro avg       1.00      0.97      0.98      3188\n",
      "                    weighted avg       1.00      1.00      1.00      3188\n",
      "\n"
     ]
    }
   ],
   "source": [
    "print(classification_report(y_true_inc,pred_inc_class,target_names=label_list_inc))"
   ]
  },
  {
   "cell_type": "code",
   "execution_count": 85,
   "id": "58bb572b-ee29-45de-b4a2-20ec3fcb193d",
   "metadata": {},
   "outputs": [
    {
     "name": "stderr",
     "output_type": "stream",
     "text": [
      "WARNING:absl:You are saving your model as an HDF5 file via `model.save()` or `keras.saving.save_model(model)`. This file format is considered legacy. We recommend using instead the native Keras format, e.g. `model.save('my_model.keras')` or `keras.saving.save_model(model, 'my_model.keras')`. \n"
     ]
    }
   ],
   "source": [
    "model_inc.save('fish_inception_1.h5')"
   ]
  },
  {
   "cell_type": "code",
   "execution_count": 86,
   "id": "728f0ecf-b6b5-4d54-8513-25918e572659",
   "metadata": {},
   "outputs": [],
   "source": [
    "import pickle\n",
    "\n",
    "with open('history_model_inc.pkl', 'wb') as f:\n",
    "    pickle.dump(history_inc.history, f)"
   ]
  },
  {
   "cell_type": "markdown",
   "id": "604e3b4d-9768-464e-88a6-200768af0588",
   "metadata": {
    "jp-MarkdownHeadingCollapsed": true
   },
   "source": [
    "# Model Evaluation and Visualization "
   ]
  },
  {
   "cell_type": "markdown",
   "id": "6010a3ad-4105-4f97-8249-21000d15d622",
   "metadata": {
    "jp-MarkdownHeadingCollapsed": true
   },
   "source": [
    "## Model Evaluation for Custom CNN "
   ]
  },
  {
   "cell_type": "markdown",
   "id": "da6fa54b-4854-4d04-9769-b8c8b4288e8d",
   "metadata": {},
   "source": [
    "|Metrics|||||\n",
    "|-|-|-|-|-|\n",
    "|accuracy|  ||                       0.86|      3188|\n",
    "|macro avg|       0.78|      0.77|      0.77|      3188|\n",
    "|weighted avg|       0.86|      0.86|      0.85|      3188|\n"
   ]
  },
  {
   "cell_type": "markdown",
   "id": "e6d90674-a761-4fd7-8fe6-7be92a20ff6c",
   "metadata": {},
   "source": [
    "|Category|precision|recall|f1-score|support|\n",
    "|-|-|-|-|-|\n",
    "|animal fish |      0.97  |    0.99   |   0.98   |    521|\n",
    "|animal fish bass|       0.00|      0.00|      0.00|        13|\n",
    "|fish sea_food black_sea_sprat|       0.85|      0.94|      0.90|       298|\n",
    "|fish sea_food gilt_head_bream|       0.69|      0.60|      0.64|       305|\n",
    "|fish sea_food hourse_mackerel|       0.85|      0.97|      0.90|       286|\n",
    "|fish sea_food red_mullet|       0.92|      1.00|      0.96|       291|\n",
    "|fish sea_food red_sea_bream|       0.98|      0.54|      0.70|       273|\n",
    "|fish sea_food sea_bass|       0.70|      0.86|      0.78|       327|\n",
    "|fish sea_food shrimp|       0.87|      0.97|      0.92|       289|\n",
    "|fish sea_food striped_red_mullet|       0.84|      0.72|      0.77|       293|\n",
    "|fish sea_food trout|       0.91|      0.93|      0.92|       292|"
   ]
  },
  {
   "cell_type": "code",
   "execution_count": 88,
   "id": "dab573d2-93ce-4e58-9406-d5102d6e1ee4",
   "metadata": {},
   "outputs": [],
   "source": [
    "# As we that, it has a very good Accuracy of 86% and has a very nice precision score for almost every class. \n",
    "# Also we that, the model fails to predict the classes like 'animal fish bass'. "
   ]
  },
  {
   "cell_type": "markdown",
   "id": "031b0922-a23d-4252-9a38-8642c8425b54",
   "metadata": {},
   "source": [
    "### Visualizing Accuracy and Loss for Custom CNN"
   ]
  },
  {
   "cell_type": "code",
   "execution_count": 89,
   "id": "2506c889-05d4-4aba-a4ce-83c6d5e25fbe",
   "metadata": {},
   "outputs": [
    {
     "data": {
      "image/png": "[encoded data removed]",
      "text/plain": [
       "<Figure size 640x480 with 1 Axes>"
      ]
     },
     "metadata": {},
     "output_type": "display_data"
    }
   ],
   "source": [
    "# Accuracy Plot\n",
    "import matplotlib.pyplot as plt\n",
    "import seaborn as sns\n",
    "\n",
    "plt.plot(history.history['accuracy'], label='Train Accuracy')\n",
    "plt.plot(history.history['val_accuracy'],label='Validation Accuracy')\n",
    "plt.title('Model Accuracy')\n",
    "plt.xlabel('Epoch')\n",
    "plt.ylabel('Accuracy')\n",
    "plt.legend()\n",
    "plt.show()"
   ]
  },
  {
   "cell_type": "code",
   "execution_count": 91,
   "id": "65b1124e-ec4d-4f91-8c85-a6589344c1f0",
   "metadata": {},
   "outputs": [
    {
     "data": {
      "image/png": "[encoded data removed]",
      "text/plain": [
       "<Figure size 640x480 with 1 Axes>"
      ]
     },
     "metadata": {},
     "output_type": "display_data"
    }
   ],
   "source": [
    "# Loss Plot \n",
    "plt.plot(history.history['loss'], label='Train Loss')\n",
    "plt.plot(history.history['val_loss'],label='Validation Loss')\n",
    "plt.title('Model Loss')\n",
    "plt.xlabel('Epoch')\n",
    "plt.ylabel('Loss')\n",
    "plt.legend()\n",
    "plt.show()"
   ]
  },
  {
   "cell_type": "markdown",
   "id": "5526bbeb-6571-4e0d-a6e9-8a52f7519996",
   "metadata": {
    "jp-MarkdownHeadingCollapsed": true
   },
   "source": [
    "## Model evaluation for MobileNetV2"
   ]
  },
  {
   "cell_type": "markdown",
   "id": "5c1b104c-abe4-4776-8a4c-683745c2a335",
   "metadata": {},
   "source": [
    "|Metrics|||||\n",
    "|-|-|-|-|-|\n",
    "|accuracy|  ||                         0.99 |     3188|\n",
    "|macro avg|       1.00    |  0.95     | 0.97     | 3188|\n",
    "|weighted avg|       0.99  |    0.99  |    0.99   |   3188|"
   ]
  },
  {
   "cell_type": "markdown",
   "id": "4cc5d6bb-d3a8-43c0-becd-7e5e85407abc",
   "metadata": {},
   "source": [
    "|Category|precision|recall|f1-score|support|\n",
    "|-|-|-|-|-|\n",
    "|animal fish|       0.99|      1.00|      0.99|       521|\n",
    "|animal fish bass|       1.00|      0.54|      0.70|        13|\n",
    "|fish sea_food black_sea_sprat|       1.00|      0.99|      1.00|       298|\n",
    "|fish sea_food gilt_head_bream|       0.99|      1.00|      1.00|       305|\n",
    "|fish sea_food hourse_mackerel|       1.00|      0.99|      1.00|       286|\n",
    "|fish sea_food red_mullet|       1.00|      0.98|      0.99|       291|\n",
    "|fish sea_food red_sea_bream|       1.00|      1.00|      1.00|       273|\n",
    "|fish sea_food sea_bass|       0.99|      1.00|      1.00|       327|\n",
    "|fish sea_food shrimp|       1.00|      1.00|      1.00|       289|\n",
    "|fish sea_food striped_red_mullet|       0.98|      1.00|      0.99|       293|\n",
    "|fish sea_food trout|       1.00|      1.00|      1.00|       292|"
   ]
  },
  {
   "cell_type": "code",
   "execution_count": 98,
   "id": "6f896432-08a4-4822-b92e-529b19d680ec",
   "metadata": {},
   "outputs": [],
   "source": [
    "# The Model is performing excellently, we saw that in previous custom CNN, it failed to predict for 'animal fish bass'.\n",
    "# But, using pre-trained model MobileNetV2, it is predicting 'animal fish bass' too with 100% precision.\n",
    "# The model is so perfect that it has an accuracy of 99% and has an overall good metrics like precision,recall,f1 for every class.\n",
    "# it is almost predicting every class with high precision and accurate."
   ]
  },
  {
   "cell_type": "markdown",
   "id": "b8fdb029-7edf-44dc-9324-e9edb9017ccd",
   "metadata": {},
   "source": [
    "### Visualizing Accuracy and loss for MobileNetV2"
   ]
  },
  {
   "cell_type": "code",
   "execution_count": 92,
   "id": "a3d63e72-6ff7-4d07-9795-514a3d6f13fa",
   "metadata": {},
   "outputs": [
    {
     "data": {
      "image/png": "[encoded data removed]",
      "text/plain": [
       "<Figure size 640x480 with 1 Axes>"
      ]
     },
     "metadata": {},
     "output_type": "display_data"
    }
   ],
   "source": [
    "# Accuracy Plot\n",
    "plt.plot(history_Mobile.history['accuracy'], label='Train Accuracy')\n",
    "plt.plot(history_Mobile.history['val_accuracy'],label='Validation Accuracy')\n",
    "plt.title('Model Accuracy')\n",
    "plt.xlabel('Epoch')\n",
    "plt.ylabel('Accuracy')\n",
    "plt.legend()\n",
    "plt.show()"
   ]
  },
  {
   "cell_type": "code",
   "execution_count": 93,
   "id": "9ce49c5c-a8f2-49d5-bdf5-468d66cd44b0",
   "metadata": {},
   "outputs": [
    {
     "data": {
      "image/png": "[encoded data removed]",
      "text/plain": [
       "<Figure size 640x480 with 1 Axes>"
      ]
     },
     "metadata": {},
     "output_type": "display_data"
    }
   ],
   "source": [
    "# Loss Plot\n",
    "plt.plot(history_Mobile.history['loss'], label='Train Loss')\n",
    "plt.plot(history_Mobile.history['val_loss'],label='Validation Loss')\n",
    "plt.title('Model Loss')\n",
    "plt.xlabel('Epoch')\n",
    "plt.ylabel('Loss')\n",
    "plt.legend()\n",
    "plt.show()"
   ]
  },
  {
   "cell_type": "markdown",
   "id": "dd250d0b-6f83-4a99-afd5-12cd9444d4e5",
   "metadata": {
    "jp-MarkdownHeadingCollapsed": true
   },
   "source": [
    "## Model evaluation for VGG16"
   ]
  },
  {
   "cell_type": "markdown",
   "id": "e1f99d96-64c3-4ac3-8c88-b14c6c5c4a7e",
   "metadata": {},
   "source": [
    "|Metrics|||||\n",
    "|-|-|-|-|-|\n",
    "|accuracy ||  | 0.97  |    3188|\n",
    "|macro avg |      0.98 |     0.89   |   0.90  |    3188|\n",
    "|weighted avg   |    0.97     | 0.97     | 0.97  |    3188|"
   ]
  },
  {
   "cell_type": "markdown",
   "id": "0cfe25b6-f147-45ea-bc3d-fc794314af45",
   "metadata": {},
   "source": [
    "|Category|precision|    recall|  f1-score|   support|\n",
    "|-|-|-|-|-|\n",
    "|animal fish|       0.98 |     0.99  |    0.99  |     521|\n",
    "|animal fish bass |      1.00   |   0.08 |     0.14  |      13|\n",
    "|fish sea_food black_sea_sprat|       0.97  |    1.00     | 0.98 |      298|\n",
    "|fish sea_food gilt_head_bream |      0.94   |   1.00 |     0.97  |     305|\n",
    "|fish sea_food hourse_mackerel |      1.00 |     0.97  |    0.98  |     286|\n",
    "|fish sea_food red_mullet   |    0.97 |     0.95 |     0.96  |     291|\n",
    "|fish sea_food red_sea_bream |      1.00  |    0.94     | 0.97  |     273|\n",
    "|fish sea_food sea_bass |      0.99     | 0.99    |  0.99 |      327|\n",
    "|fish sea_food shrimp   |    0.95   |   1.00    |  0.97       |289|\n",
    "|fish sea_food striped_red_mullet  |     0.94     | 0.91   |   0.93  |     293|\n",
    "|fish sea_food trout   |    1.00 |     1.00    |  1.00      | 292|"
   ]
  },
  {
   "cell_type": "code",
   "execution_count": 101,
   "id": "e6d9d524-7674-4d02-b304-ccb0449c968c",
   "metadata": {},
   "outputs": [],
   "source": [
    "# this model also got good and excellent performance with an accuracy of 97%.\n",
    "# But, it got a less recall, and f1 score for 'animal fish bass', got high precision of 100%.\n",
    "# For other classes it is predicting good and has very good performance for other classes."
   ]
  },
  {
   "cell_type": "markdown",
   "id": "4779078f-c211-414f-a3ba-3c027097d492",
   "metadata": {
    "jp-MarkdownHeadingCollapsed": true
   },
   "source": [
    "### Visualizing Accuracy and Loss for VGG16"
   ]
  },
  {
   "cell_type": "code",
   "execution_count": 94,
   "id": "e7c4114d-b27f-4292-ad63-33c235f8dff4",
   "metadata": {},
   "outputs": [
    {
     "data": {
      "image/png": "[encoded data removed]",
      "text/plain": [
       "<Figure size 640x480 with 1 Axes>"
      ]
     },
     "metadata": {},
     "output_type": "display_data"
    }
   ],
   "source": [
    "# Accuracy Plot\n",
    "plt.plot(history_vgg.history['accuracy'], label='Train Accuracy')\n",
    "plt.plot(history_vgg.history['val_accuracy'],label='Validation Accuracy')\n",
    "plt.title('Model Accuracy')\n",
    "plt.xlabel('Epoch')\n",
    "plt.ylabel('Accuracy')\n",
    "plt.legend()\n",
    "plt.show()"
   ]
  },
  {
   "cell_type": "code",
   "execution_count": 95,
   "id": "ec1854c0-4bcd-44ba-9845-c3b899266218",
   "metadata": {},
   "outputs": [
    {
     "data": {
      "image/png": "[encoded data removed]",
      "text/plain": [
       "<Figure size 640x480 with 1 Axes>"
      ]
     },
     "metadata": {},
     "output_type": "display_data"
    }
   ],
   "source": [
    "# Loss Plot\n",
    "plt.plot(history.history['loss'], label='Train Loss')\n",
    "plt.plot(history.history['val_loss'],label='Validation Loss')\n",
    "plt.title('Model Loss')\n",
    "plt.xlabel('Epoch')\n",
    "plt.ylabel('Loss')\n",
    "plt.legend()\n",
    "plt.show()"
   ]
  },
  {
   "cell_type": "markdown",
   "id": "d51d42a3-bc33-41cf-9522-0c34aadea01d",
   "metadata": {
    "jp-MarkdownHeadingCollapsed": true
   },
   "source": [
    "## Model evaluation for ResNet50"
   ]
  },
  {
   "cell_type": "markdown",
   "id": "7f84cf17-9057-44f7-a235-fccaddf3490d",
   "metadata": {},
   "source": [
    "|Metrics|||||\n",
    "|-|-|-|-|-|\n",
    "|accuracy |    ||                      0.40   |   3188|\n",
    "|macro avg |      0.28  |    0.35    |  0.28 |     3188|\n",
    "|weighted avg |      0.32      |0.40  |    0.33 |     3188|"
   ]
  },
  {
   "cell_type": "markdown",
   "id": "35a71fc1-4254-429f-9d1d-7681082c897b",
   "metadata": {},
   "source": [
    "|Category|precision |   recall | f1-score |  support|\n",
    "|-|-|-|-|-|\n",
    "| animal fish|       0.57    |  0.80 |     0.67 |      521|\n",
    "|animal fish bass   |    0.00    |  0.00|      0.00  |      13|\n",
    "|fish sea_food black_sea_sprat   |    0.41  |    0.14  |    0.21 |      298|\n",
    "| fish sea_food gilt_head_bream |      0.17   |   0.00  |    0.01    |   305|\n",
    "|fish sea_food hourse_mackerel   |    0.27    |  0.64    |  0.38   |    286|\n",
    "|fish sea_food red_mullet      | 0.48  |    0.31    |  0.37    |   291|\n",
    "| fish sea_food red_sea_bream     |  0.42   |   0.47    |  0.45    |   273|\n",
    "|   fish sea_food sea_bass    |   0.00   |   0.00    |  0.00    |   327|\n",
    "|     fish sea_food shrimp    |   0.51   |   0.66     | 0.57    |   289|\n",
    "|fish sea_food striped_red_mullet    |   0.00    |  0.00     | 0.00     |  293|\n",
    "|    fish sea_food trout    |   0.28    |  0.77    |  0.41     |  292||"
   ]
  },
  {
   "cell_type": "code",
   "execution_count": 100,
   "id": "6bee2885-4b47-498e-8e20-baa22e3508a4",
   "metadata": {},
   "outputs": [],
   "source": [
    "# It has a low accuracy of 40%, and it is not predicting classes like 'animal fish bass', 'fish sea_food sea_bass'.\n",
    "# For other classes it is predicting but has very low metrics score.\n",
    "# Also the training time was high as compared to MobileNetV2 and Custom CNN.\n",
    "# We will do fine tune for this model "
   ]
  },
  {
   "cell_type": "markdown",
   "id": "633144c5-a9ca-498a-a255-019ef7ef400d",
   "metadata": {
    "jp-MarkdownHeadingCollapsed": true
   },
   "source": [
    "## Model evaluation for ResNet50 (Fine-Tune)"
   ]
  },
  {
   "cell_type": "markdown",
   "id": "e8387aff-3be6-4eef-bd6d-14a515b393f4",
   "metadata": {},
   "source": [
    "|Metrics|||||||\n",
    "|-|-|-|-|-|-|-|\n",
    "|accuracy|         |         |         |0.09|      3188|\n",
    "|macro avg|       |0.03      |0.09    |0.03|      3188|\n",
    "|weighted avg|       |0.03      |0.09     |0.03|      3188|"
   ]
  },
  {
   "cell_type": "markdown",
   "id": "8030eda5-0e1a-47f8-a354-613f9878e9c0",
   "metadata": {},
   "source": [
    "|Category|precision|    recall|  f1-score|   support|\n",
    "|-|-|-|-|-|\n",
    "|animal fish|       0.00|      0.00|      0.00|       521|\n",
    "|animal fish bass|       0.00 |     0.00  |    0.00   |     13|\n",
    "|fish sea_food black_sea_sprat   |    0.00   |   0.00    |  0.00    |   298|\n",
    "|fish sea_food gilt_head_bream|       0.00   |   0.00  |    0.00   |    305|\n",
    "|fish sea_food hourse_mackerel|       0.08   |   0.89   |   0.15   |    286|\n",
    "|fish sea_food red_mullet|       0.00   |   0.00   |   0.00   |    291|\n",
    "|fish sea_food red_sea_bream|       0.00   |   0.00    |  0.00    |   273|\n",
    "|fish sea_food sea_bass|       0.00 |     0.00  |    0.00    |   327|\n",
    "|fish sea_food shrimp|       0.00   |   0.00    |  0.00     |  289|\n",
    "fish sea_food striped_red_mullet|       0.00  |    0.00 |     0.00  |     293|\n",
    "|fish sea_food trout|       0.30  |    0.11   |   0.16  |     292|\n",
    "\n"
   ]
  },
  {
   "cell_type": "code",
   "execution_count": 99,
   "id": "e5ecb7bd-5c87-4264-a816-e3945445d861",
   "metadata": {},
   "outputs": [],
   "source": [
    "# And we see that after fine tune it got worst.\n",
    "# it achieved an accuracy of 9% and which is very low.\n",
    "# In fine tune, we unfreezed first 30 layers of the pre-trained model, and we did'nt got the expected results.\n",
    "# Failed to predict almost each class."
   ]
  },
  {
   "cell_type": "markdown",
   "id": "f29a5612-cf16-4ae6-ab5a-f4f5269040aa",
   "metadata": {},
   "source": [
    "### Visualizing Accuracy and Loss for ResNet50"
   ]
  },
  {
   "cell_type": "code",
   "execution_count": 96,
   "id": "5fec365a-12c2-486c-b8cd-54dadc4af4d0",
   "metadata": {},
   "outputs": [
    {
     "data": {
      "image/png": "[encoded data removed]",
      "text/plain": [
       "<Figure size 640x480 with 1 Axes>"
      ]
     },
     "metadata": {},
     "output_type": "display_data"
    }
   ],
   "source": [
    "# Accuracy Plot\n",
    "plt.plot(history_res.history['accuracy'], label='Train Accuracy')\n",
    "plt.plot(history_res.history['val_accuracy'],label='Validation Accuracy')\n",
    "plt.title('Model Accuracy')\n",
    "plt.xlabel('Epoch')\n",
    "plt.ylabel('Accuracy')\n",
    "plt.legend()\n",
    "plt.show()"
   ]
  },
  {
   "cell_type": "code",
   "execution_count": 97,
   "id": "a60752f4-876d-44bb-9747-1116e9f56fc0",
   "metadata": {},
   "outputs": [
    {
     "data": {
      "image/png": "[encoded data removed]",
      "text/plain": [
       "<Figure size 640x480 with 1 Axes>"
      ]
     },
     "metadata": {},
     "output_type": "display_data"
    }
   ],
   "source": [
    "# Loss Plot\n",
    "plt.plot(history_res.history['loss'], label='Train Loss')\n",
    "plt.plot(history_res.history['val_loss'],label='Validation Loss')\n",
    "plt.title('Model Loss')\n",
    "plt.xlabel('Epoch')\n",
    "plt.ylabel('Loss')\n",
    "plt.legend()\n",
    "plt.show()"
   ]
  },
  {
   "cell_type": "markdown",
   "id": "e1c44170-d3ab-469d-bd99-d9b5f9bd19d8",
   "metadata": {
    "jp-MarkdownHeadingCollapsed": true
   },
   "source": [
    "## Model evaluation for DenseNet121"
   ]
  },
  {
   "cell_type": "markdown",
   "id": "bca9f246-4169-4c22-a564-5fb2b2ec6a7d",
   "metadata": {},
   "source": [
    "|Metrics|||||\n",
    "|-|-|-|-|-                        \n",
    "|accuracy|           |          |      1.00|      3188|\n",
    "|macro avg|       0.98|      0.98|      0.98|      3188|\n",
    "|weighted avg|       1.00|      1.00|      1.00|      3188|"
   ]
  },
  {
   "cell_type": "markdown",
   "id": "5df9973d-a7e9-42d5-8d70-c08dd5a50ff0",
   "metadata": {},
   "source": [
    "|Category|precision|    recall|  f1-score|   support|\n",
    "|-|-|-|-|-|\n",
    "|animal fish|       0.99|      0.99|      0.99|       521|\n",
    "|animal fish bass|       0.77|      0.77|      0.77|        13|\n",
    "|fish sea_food black_sea_sprat|       1.00|      1.00|      1.00 |      298|\n",
    "|fish sea_food gilt_head_bream|       1.00   |   0.99   |   0.99  |     305|\n",
    "|fish sea_food hourse_mackerel|       0.99|      1.00|      0.99|       286|\n",
    "|fish sea_food red_mullet|       1.00|      1.00|      1.00|       291|\n",
    "|fish sea_food red_sea_bream|       0.99|      1.00|      0.99|       273|\n",
    "|fish sea_food sea_bass|       1.00|      1.00|      1.00|       327|\n",
    "|fish sea_food shrimp|       1.00|      1.00|      1.00|       289\n",
    "|fish sea_food striped_red_mullet|       1.00|      0.99|      1.00|       293|\n",
    "|fish sea_food trout|       1.00|      1.00|      1.00|       292|"
   ]
  },
  {
   "cell_type": "code",
   "execution_count": 102,
   "id": "fc66be4e-6349-4d35-a977-1b3e7ade2df2",
   "metadata": {},
   "outputs": [],
   "source": [
    "# This model is performing excellent with the pretrained model (DenseNet50).\n",
    "# Its perfomance is getting higher accuracy,precision and recall score.\n",
    "# It is predicting all the models with excellent precisions as compared our other trained model. \n",
    "# It achieved an accuracy of 100% and precision of 98%. Its overall performance is best as compared to other models."
   ]
  },
  {
   "cell_type": "markdown",
   "id": "5d66a1a8-a36e-45a9-9055-36bba077e798",
   "metadata": {
    "jp-MarkdownHeadingCollapsed": true
   },
   "source": [
    "### Visualizing Accuracy and Loss for DenseNet121"
   ]
  },
  {
   "cell_type": "code",
   "execution_count": 103,
   "id": "86752fce-4f65-48ec-b129-5e98471f6131",
   "metadata": {},
   "outputs": [
    {
     "data": {
      "image/png": "[encoded data removed]",
      "text/plain": [
       "<Figure size 640x480 with 1 Axes>"
      ]
     },
     "metadata": {},
     "output_type": "display_data"
    }
   ],
   "source": [
    "# Accuracy Plot\n",
    "plt.plot(history_dense.history['accuracy'], label='Train Accuracy')\n",
    "plt.plot(history_dense.history['val_accuracy'],label='Validation Accuracy')\n",
    "plt.title('Model Accuracy')\n",
    "plt.xlabel('Epoch')\n",
    "plt.ylabel('Accuracy')\n",
    "plt.legend()\n",
    "plt.show()"
   ]
  },
  {
   "cell_type": "code",
   "execution_count": 104,
   "id": "ea3d9298-424a-460e-9051-f188bda95b34",
   "metadata": {},
   "outputs": [
    {
     "data": {
      "image/png": "[encoded data removed]",
      "text/plain": [
       "<Figure size 640x480 with 1 Axes>"
      ]
     },
     "metadata": {},
     "output_type": "display_data"
    }
   ],
   "source": [
    "# Loss Plot\n",
    "plt.plot(history_dense.history['loss'], label='Train Loss')\n",
    "plt.plot(history_dense.history['val_loss'],label='Validation Loss')\n",
    "plt.title('Model Loss')\n",
    "plt.xlabel('Epoch')\n",
    "plt.ylabel('Loss')\n",
    "plt.legend()\n",
    "plt.show()"
   ]
  },
  {
   "cell_type": "markdown",
   "id": "5b81fc91-49bf-4648-990c-e091c2c7820d",
   "metadata": {
    "jp-MarkdownHeadingCollapsed": true
   },
   "source": [
    "## Model evaluation for InceptionV3"
   ]
  },
  {
   "cell_type": "markdown",
   "id": "1629b84d-7b5f-4c2e-99c2-ba4b77b0937d",
   "metadata": {},
   "source": [
    "|Metrics||||||\n",
    "|-|-|-|-|-|-|\n",
    "|accuracy|             |         |     1.00  |    3188|\n",
    "|macro avg|       1.00 |     0.97 |     0.98 |     3188|\n",
    "|weighted avg|       1.00 |     1.00|      1.00|      3188|"
   ]
  },
  {
   "cell_type": "markdown",
   "id": "6e98a154-90a1-4d7f-8d9c-b7247dbc6e78",
   "metadata": {},
   "source": [
    "|Category|precision|    recall|  f1-score|   support|\n",
    "|-|-|-|-|-|\n",
    "|animal fish|       0.99  |    1.00 |     0.99   |    521|\n",
    "|animal fish bass|       1.00  |    0.69  |    0.82 |       13|\n",
    "|fish sea_food black_sea_sprat|       1.00   |   1.00 |     1.00  |     298|\n",
    "|fish sea_food gilt_head_bream |      1.00 |     1.00   |   1.00    |   305|\n",
    "|fish sea_food hourse_mackerel|       0.99  |    1.00   |   1.00  |     286|\n",
    "|fish sea_food red_mullet |      1.00    |  0.99    |  1.00    |   291|\n",
    "|fish sea_food red_sea_bream|       1.00  |    1.00    |  1.00  |     273|\n",
    "|fish sea_food sea_bass |      1.00   |   1.00 |     1.00  |     327|\n",
    "|fish sea_food shrimp  |     1.00   |   1.00   |   1.00   |    289|\n",
    "|fish sea_food striped_red_mullet|       0.99  |    0.99  |    0.99   |    293|\n",
    "|fish sea_food trout |      1.00   |   1.00   |   1.00 |      292|"
   ]
  },
  {
   "cell_type": "code",
   "execution_count": 105,
   "id": "7b3d67d2-01e3-4a4a-abfe-c3cd218bd25e",
   "metadata": {},
   "outputs": [],
   "source": [
    "# The performance of the model is top class, it acheived an accuracy of 100% and precision of 100%.\n",
    "# Among all the model this model has better performance for all the classes.\n",
    "# It also predicts classes that other models failed to predict.\n",
    "# For all the classes it hit the precision of 100%. \n",
    "# Recall score and f1 score are better too (97% and 98%)."
   ]
  },
  {
   "cell_type": "markdown",
   "id": "53bbc80b-02dd-498c-aa7a-7e062424f944",
   "metadata": {},
   "source": [
    "### Visualizing Accuracy and Loss for InceptionV3"
   ]
  },
  {
   "cell_type": "code",
   "execution_count": 106,
   "id": "0da07b39-9a69-4f23-aecf-a8f409f1ae4f",
   "metadata": {},
   "outputs": [
    {
     "data": {
      "image/png": "[encoded data removed]",
      "text/plain": [
       "<Figure size 640x480 with 1 Axes>"
      ]
     },
     "metadata": {},
     "output_type": "display_data"
    }
   ],
   "source": [
    "# Accuracy Plot\n",
    "plt.plot(history_inc.history['accuracy'], label='Train Accuracy')\n",
    "plt.plot(history_inc.history['val_accuracy'],label='Validation Accuracy')\n",
    "plt.title('Model Accuracy')\n",
    "plt.xlabel('Epoch')\n",
    "plt.ylabel('Accuracy')\n",
    "plt.legend()\n",
    "plt.show()"
   ]
  },
  {
   "cell_type": "code",
   "execution_count": 107,
   "id": "cbffff41-5b8e-4718-a274-6a493f1eb3d7",
   "metadata": {},
   "outputs": [
    {
     "data": {
      "image/png": "[encoded data removed]",
      "text/plain": [
       "<Figure size 640x480 with 1 Axes>"
      ]
     },
     "metadata": {},
     "output_type": "display_data"
    }
   ],
   "source": [
    "# Loss Plot\n",
    "plt.plot(history_res.history['loss'], label='Train Loss')\n",
    "plt.plot(history_res.history['val_loss'],label='Validation Loss')\n",
    "plt.title('Model Loss')\n",
    "plt.xlabel('Epoch')\n",
    "plt.ylabel('Loss')\n",
    "plt.legend()\n",
    "plt.show()"
   ]
  },
  {
   "cell_type": "markdown",
   "id": "dfbbb8dd-c706-490a-ba4f-9c32156377f6",
   "metadata": {
    "jp-MarkdownHeadingCollapsed": true
   },
   "source": [
    "# Model Comparison"
   ]
  },
  {
   "cell_type": "markdown",
   "id": "42723b5d-afdc-452c-9e86-323086ea107e",
   "metadata": {},
   "source": [
    "## ***Custom CNN*** [vs] ***MobileNetV2*** [vs] ***VGG16*** [vs] ***ResNet50*** [vs] ***DenseNet121*** [vs] ***InceptionV3***"
   ]
  },
  {
   "cell_type": "markdown",
   "id": "5e31d170-5681-4234-836b-24f2263f0401",
   "metadata": {
    "jp-MarkdownHeadingCollapsed": true
   },
   "source": [
    "|Model|Accuracy|Precision|Recall Score|f1-Score|Time(labelled)|\n",
    "|-|-|-|-|-|-|\n",
    "|Custom CNN |0.86|0.78|0.77|0.77|Average|\n",
    "|MobileNetV2 |0.99|1.00|0.95|0.97|Faster|\n",
    "|VGG16 |0.97|0.98|0.89|0.90|Slower| \n",
    "|ResNet50 | 0.09|0.03|0.09|0.03|Slower|\n",
    "|DenseNet121 | 1.00|0.98|0.98|0.98|Average|\n",
    "|InceptionV3|1.00|1.00|0.97|0.98|Slower|"
   ]
  },
  {
   "cell_type": "markdown",
   "id": "28ffec9c-5702-4cea-93d8-cf4532e485d8",
   "metadata": {},
   "source": [
    "## Comparison Summary"
   ]
  },
  {
   "cell_type": "code",
   "execution_count": 1,
   "id": "e8798025-3e5b-4e9a-ad00-763fecd18182",
   "metadata": {},
   "outputs": [],
   "source": [
    "# Custom CNN has very good performance, it took a little bit more time to train, achieved an accuracy of 86% and average other metrics.\n",
    "# Meanwhile Using MobileNetV2 (pre-trained model) it was faster than other models and has best performance among other models. Memory usage is less.\n",
    "# VGG16 has good performnace also it took a bit more time to train and memory usage is also more. Achieved an accuracy of 97%.\n",
    "# ResNet50 maybe got error while loading the model, fine tuning mae it worst in my case. \n",
    "# DenseNet121 has very good performance, achieved an accuracy of 100%, for fish classification its good accuracy. \n",
    "# InceptionV3 also achieved an accuracy of 100%, memory usage is more as compared to other models, time a longer time to train. "
   ]
  },
  {
   "cell_type": "markdown",
   "id": "1995b4c0-7a63-4d68-922e-3a502929133f",
   "metadata": {},
   "source": [
    "## Model Used for Deployment "
   ]
  },
  {
   "cell_type": "markdown",
   "id": "ec56e0f7-33ed-48bf-baf6-6fd1fe0a24ba",
   "metadata": {},
   "source": [
    "### ***MobileNetV2***"
   ]
  },
  {
   "cell_type": "code",
   "execution_count": 2,
   "id": "70b4c401-e184-463b-8606-6a3e3de801cf",
   "metadata": {},
   "outputs": [],
   "source": [
    "# Faster, low memory usage.  \n",
    "# Predicts all the classes with good accuracy,precision,recall score,f1-score.\n",
    "# Will not face larger file issue for deployment."
   ]
  },
  {
   "cell_type": "markdown",
   "id": "c0b4b2df-e925-4885-8ec8-1bcc22c756f0",
   "metadata": {
    "jp-MarkdownHeadingCollapsed": true
   },
   "source": [
    "# Conclusion "
   ]
  },
  {
   "cell_type": "markdown",
   "id": "59f897f6-cccd-491d-9245-fa7dda7a6483",
   "metadata": {},
   "source": [
    "- In this project, I applied transfer learning to classify multiple fish species using pre-trained convolutional neural networks (CNNs) such as\n",
    "   MobileNetV2, VGG16, ResNet50, EfficientNetB0, and InceptionV3. \n",
    " - The ResNet50 model was fine-tuned and evaluated on a custom dataset with multiple, sometimes highly imbalanced, classes.\n",
    " - Transfer learning significantly reduced training time and allowed the use of deep architectures even with limited computational resources.\n",
    " - Larger input sizes (e.g., InceptionV3’s 299×299) required more memory and were more sensitive to generator configurations.\n",
    " - Saving both model weights and training history is essential for efficient experimentation and result visualization without retraining."
   ]
  },
  {
   "cell_type": "code",
   "execution_count": null,
   "id": "b61ebb0c-0128-4d96-99ff-7f7357fa5084",
   "metadata": {},
   "outputs": [],
   "source": []
  }
 ],
 "metadata": {
  "kernelspec": {
   "display_name": "Python (py310)",
   "language": "python",
   "name": "py310"
  },
  "language_info": {
   "codemirror_mode": {
    "name": "ipython",
    "version": 3
   },
   "file_extension": ".py",
   "mimetype": "text/x-python",
   "name": "python",
   "nbconvert_exporter": "python",
   "pygments_lexer": "ipython3",
   "version": "3.10.18"
  }
 },
 "nbformat": 4,
 "nbformat_minor": 5
}
